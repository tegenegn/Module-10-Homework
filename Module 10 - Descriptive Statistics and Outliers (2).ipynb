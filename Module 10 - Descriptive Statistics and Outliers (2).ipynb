{
 "cells": [
  {
   "cell_type": "markdown",
   "id": "a912cedd",
   "metadata": {},
   "source": [
    "# Module 10: Descriptive Statistics and Outliers\n",
    "***\n",
    "\n",
    "## What are statistics?\n",
    "\n",
    "Statistics deal with collecting informative data, interpreting these data, and drawing conclusions about the data. Statistics are used across multiple disciplines and fuel business and policy decisions.\n",
    "\n",
    "## Two types of statistics\n",
    "***\n",
    "#### Descriptive Statistics\n",
    "Descriptive statistics use numeric and graphical techniques to summarize the characteristics of a set of data and to identify patterns within the dataset. Descriptive statistics also include graphically summarizing data and presenting the information in a meaningful (easy to interpret) way. \n",
    "\n",
    "#### Inferential Statistics\n",
    "Inferential statistics use samples of data to make generalizations about a larger set of data (or a larger population). Inferential statistics use data to make estimates, decisions, and predictions about patterns and trends identified within a set of data. Inferential statistics are used to make conclusions beyond your immediate set of data. "
   ]
  },
  {
   "cell_type": "markdown",
   "id": "e9e11e6c",
   "metadata": {},
   "source": [
    "## Import Libraries and Data"
   ]
  },
  {
   "cell_type": "code",
   "execution_count": 12,
   "id": "aec4bc2e",
   "metadata": {},
   "outputs": [
    {
     "data": {
      "text/html": [
       "<div>\n",
       "<style scoped>\n",
       "    .dataframe tbody tr th:only-of-type {\n",
       "        vertical-align: middle;\n",
       "    }\n",
       "\n",
       "    .dataframe tbody tr th {\n",
       "        vertical-align: top;\n",
       "    }\n",
       "\n",
       "    .dataframe thead th {\n",
       "        text-align: right;\n",
       "    }\n",
       "</style>\n",
       "<table border=\"1\" class=\"dataframe\">\n",
       "  <thead>\n",
       "    <tr style=\"text-align: right;\">\n",
       "      <th></th>\n",
       "      <th>Fname</th>\n",
       "      <th>Lname</th>\n",
       "      <th>Position</th>\n",
       "      <th>Gender</th>\n",
       "      <th>Hours Worked</th>\n",
       "      <th>SalesTraining</th>\n",
       "      <th>Years Experience</th>\n",
       "      <th>Cars Sold</th>\n",
       "    </tr>\n",
       "  </thead>\n",
       "  <tbody>\n",
       "    <tr>\n",
       "      <th>0</th>\n",
       "      <td>Jackie</td>\n",
       "      <td>Jackson</td>\n",
       "      <td>Trainee</td>\n",
       "      <td>F</td>\n",
       "      <td>32</td>\n",
       "      <td>Y</td>\n",
       "      <td>1</td>\n",
       "      <td>3</td>\n",
       "    </tr>\n",
       "    <tr>\n",
       "      <th>1</th>\n",
       "      <td>Mary</td>\n",
       "      <td>Patterson</td>\n",
       "      <td>Trainee</td>\n",
       "      <td>F</td>\n",
       "      <td>43</td>\n",
       "      <td>N</td>\n",
       "      <td>1</td>\n",
       "      <td>6</td>\n",
       "    </tr>\n",
       "    <tr>\n",
       "      <th>2</th>\n",
       "      <td>Tanya</td>\n",
       "      <td>Adams</td>\n",
       "      <td>Trainee</td>\n",
       "      <td>F</td>\n",
       "      <td>28</td>\n",
       "      <td>Y</td>\n",
       "      <td>1</td>\n",
       "      <td>2</td>\n",
       "    </tr>\n",
       "    <tr>\n",
       "      <th>3</th>\n",
       "      <td>Tanya</td>\n",
       "      <td>Henderson</td>\n",
       "      <td>Trainee</td>\n",
       "      <td>F</td>\n",
       "      <td>24</td>\n",
       "      <td>Y</td>\n",
       "      <td>1</td>\n",
       "      <td>5</td>\n",
       "    </tr>\n",
       "    <tr>\n",
       "      <th>4</th>\n",
       "      <td>Walter</td>\n",
       "      <td>Franklin</td>\n",
       "      <td>Trainee</td>\n",
       "      <td>M</td>\n",
       "      <td>25</td>\n",
       "      <td>Y</td>\n",
       "      <td>1</td>\n",
       "      <td>4</td>\n",
       "    </tr>\n",
       "  </tbody>\n",
       "</table>\n",
       "</div>"
      ],
      "text/plain": [
       "    Fname      Lname Position Gender  Hours Worked SalesTraining  \\\n",
       "0  Jackie    Jackson  Trainee      F            32             Y   \n",
       "1    Mary  Patterson  Trainee      F            43             N   \n",
       "2   Tanya      Adams  Trainee      F            28             Y   \n",
       "3   Tanya  Henderson  Trainee      F            24             Y   \n",
       "4  Walter   Franklin  Trainee      M            25             Y   \n",
       "\n",
       "   Years Experience  Cars Sold  \n",
       "0                 1          3  \n",
       "1                 1          6  \n",
       "2                 1          2  \n",
       "3                 1          5  \n",
       "4                 1          4  "
      ]
     },
     "execution_count": 12,
     "metadata": {},
     "output_type": "execute_result"
    }
   ],
   "source": [
    "import pandas as pd\n",
    "import numpy as np\n",
    "import scipy.stats as stats ## new library alert! ##\n",
    "\n",
    "## SciPy is used for scientific and mathematic computing; it provides functions for stats, \n",
    "# data manipulation, and data visualization\n",
    "\n",
    "df = pd.read_excel(\"axisdata.xlsx\")\n",
    "\n",
    "df.head()"
   ]
  },
  {
   "cell_type": "markdown",
   "id": "74df32f8",
   "metadata": {},
   "source": [
    "## Qualitative vs Quantitative Data\n",
    "***\n",
    "\n",
    "#### Quantitative Data\n",
    "Data that are recorded on a numeric scale (i.e. age, weight, salary, number of empty seats on a plane, credit score etc). Quantitative variables are also called <b>numeric</b> variables. \n",
    "\n",
    "#### Qualitative Data\n",
    "Data that cannot be measured on a numeric scale (i.e. eye color, type of car, blood type, race etc). These data can only be classified into one group of categories. Qualitative variables are also called <b>categorical</b> variables. Qualitative data also includes text and string data. "
   ]
  },
  {
   "cell_type": "code",
   "execution_count": 42,
   "id": "3d59351d",
   "metadata": {},
   "outputs": [
    {
     "data": {
      "text/html": [
       "<div>\n",
       "<style scoped>\n",
       "    .dataframe tbody tr th:only-of-type {\n",
       "        vertical-align: middle;\n",
       "    }\n",
       "\n",
       "    .dataframe tbody tr th {\n",
       "        vertical-align: top;\n",
       "    }\n",
       "\n",
       "    .dataframe thead th {\n",
       "        text-align: right;\n",
       "    }\n",
       "</style>\n",
       "<table border=\"1\" class=\"dataframe\">\n",
       "  <thead>\n",
       "    <tr style=\"text-align: right;\">\n",
       "      <th></th>\n",
       "      <th>Fname</th>\n",
       "      <th>Lname</th>\n",
       "      <th>Position</th>\n",
       "      <th>Gender</th>\n",
       "      <th>Hours Worked</th>\n",
       "      <th>SalesTraining</th>\n",
       "      <th>Years Experience</th>\n",
       "      <th>Cars Sold</th>\n",
       "    </tr>\n",
       "  </thead>\n",
       "  <tbody>\n",
       "    <tr>\n",
       "      <th>0</th>\n",
       "      <td>Jackie</td>\n",
       "      <td>Jackson</td>\n",
       "      <td>Trainee</td>\n",
       "      <td>F</td>\n",
       "      <td>32</td>\n",
       "      <td>Y</td>\n",
       "      <td>1</td>\n",
       "      <td>3</td>\n",
       "    </tr>\n",
       "    <tr>\n",
       "      <th>1</th>\n",
       "      <td>Mary</td>\n",
       "      <td>Patterson</td>\n",
       "      <td>Trainee</td>\n",
       "      <td>F</td>\n",
       "      <td>43</td>\n",
       "      <td>N</td>\n",
       "      <td>1</td>\n",
       "      <td>6</td>\n",
       "    </tr>\n",
       "    <tr>\n",
       "      <th>2</th>\n",
       "      <td>Tanya</td>\n",
       "      <td>Adams</td>\n",
       "      <td>Trainee</td>\n",
       "      <td>F</td>\n",
       "      <td>28</td>\n",
       "      <td>Y</td>\n",
       "      <td>1</td>\n",
       "      <td>2</td>\n",
       "    </tr>\n",
       "    <tr>\n",
       "      <th>3</th>\n",
       "      <td>Tanya</td>\n",
       "      <td>Henderson</td>\n",
       "      <td>Trainee</td>\n",
       "      <td>F</td>\n",
       "      <td>24</td>\n",
       "      <td>Y</td>\n",
       "      <td>1</td>\n",
       "      <td>5</td>\n",
       "    </tr>\n",
       "    <tr>\n",
       "      <th>4</th>\n",
       "      <td>Walter</td>\n",
       "      <td>Franklin</td>\n",
       "      <td>Trainee</td>\n",
       "      <td>M</td>\n",
       "      <td>25</td>\n",
       "      <td>Y</td>\n",
       "      <td>1</td>\n",
       "      <td>4</td>\n",
       "    </tr>\n",
       "  </tbody>\n",
       "</table>\n",
       "</div>"
      ],
      "text/plain": [
       "    Fname      Lname Position Gender  Hours Worked SalesTraining  \\\n",
       "0  Jackie    Jackson  Trainee      F            32             Y   \n",
       "1    Mary  Patterson  Trainee      F            43             N   \n",
       "2   Tanya      Adams  Trainee      F            28             Y   \n",
       "3   Tanya  Henderson  Trainee      F            24             Y   \n",
       "4  Walter   Franklin  Trainee      M            25             Y   \n",
       "\n",
       "   Years Experience  Cars Sold  \n",
       "0                 1          3  \n",
       "1                 1          6  \n",
       "2                 1          2  \n",
       "3                 1          5  \n",
       "4                 1          4  "
      ]
     },
     "execution_count": 42,
     "metadata": {},
     "output_type": "execute_result"
    }
   ],
   "source": [
    "## Which variables are qualitative and which variables are quantitative?\n",
    "\n",
    "df.head()"
   ]
  },
  {
   "cell_type": "markdown",
   "id": "50d91d6d",
   "metadata": {},
   "source": [
    "## Describing Qualitative Data\n",
    "***\n",
    "\n",
    "Qualitative data is best summarized by frequency tables. \n",
    "\n",
    "Frequency tables summarize categorical data into a table showing each category, number of observations that fall within each category, and the relative frequency of each category. \n",
    "\n",
    "Relative frequency is the number of specific observations out of the total number of observations, or the percentage of the total sample that fall within a specific group. Both representations of categorical data give insight into how common specific categories are within a set of data. \n",
    "\n",
    "<b>Bar charts</b> are ideal for graphically representing qualitative data as they visually show the frequency of observations across various groups. \n",
    "\n",
    "#### GRAPHIC SHOULD READ N = 150 !!!\n",
    "\n",
    "<img src=\"FreqTable.png\">"
   ]
  },
  {
   "cell_type": "code",
   "execution_count": 43,
   "id": "3e690da0",
   "metadata": {},
   "outputs": [
    {
     "data": {
      "text/plain": [
       "M    510\n",
       "F    489\n",
       "Name: Gender, dtype: int64"
      ]
     },
     "execution_count": 43,
     "metadata": {},
     "output_type": "execute_result"
    }
   ],
   "source": [
    "## Frequencies \n",
    "\n",
    "df[\"Gender\"].value_counts()"
   ]
  },
  {
   "cell_type": "code",
   "execution_count": 44,
   "id": "16935be4",
   "metadata": {},
   "outputs": [
    {
     "data": {
      "text/plain": [
       "M    0.510511\n",
       "F    0.489489\n",
       "Name: Gender, dtype: float64"
      ]
     },
     "execution_count": 44,
     "metadata": {},
     "output_type": "execute_result"
    }
   ],
   "source": [
    "## Relative Frequencies \n",
    "\n",
    "df[\"Gender\"].value_counts(normalize=True)"
   ]
  },
  {
   "cell_type": "code",
   "execution_count": 45,
   "id": "cf057364",
   "metadata": {},
   "outputs": [
    {
     "data": {
      "text/html": [
       "<div>\n",
       "<style scoped>\n",
       "    .dataframe tbody tr th:only-of-type {\n",
       "        vertical-align: middle;\n",
       "    }\n",
       "\n",
       "    .dataframe tbody tr th {\n",
       "        vertical-align: top;\n",
       "    }\n",
       "\n",
       "    .dataframe thead th {\n",
       "        text-align: right;\n",
       "    }\n",
       "</style>\n",
       "<table border=\"1\" class=\"dataframe\">\n",
       "  <thead>\n",
       "    <tr style=\"text-align: right;\">\n",
       "      <th>SalesTraining</th>\n",
       "      <th>N</th>\n",
       "      <th>Y</th>\n",
       "    </tr>\n",
       "    <tr>\n",
       "      <th>Gender</th>\n",
       "      <th></th>\n",
       "      <th></th>\n",
       "    </tr>\n",
       "  </thead>\n",
       "  <tbody>\n",
       "    <tr>\n",
       "      <th>F</th>\n",
       "      <td>212</td>\n",
       "      <td>277</td>\n",
       "    </tr>\n",
       "    <tr>\n",
       "      <th>M</th>\n",
       "      <td>201</td>\n",
       "      <td>309</td>\n",
       "    </tr>\n",
       "  </tbody>\n",
       "</table>\n",
       "</div>"
      ],
      "text/plain": [
       "SalesTraining    N    Y\n",
       "Gender                 \n",
       "F              212  277\n",
       "M              201  309"
      ]
     },
     "execution_count": 45,
     "metadata": {},
     "output_type": "execute_result"
    }
   ],
   "source": [
    "## Multi-variable Frequencies \n",
    "\n",
    "pd.crosstab(df[\"Gender\"], df[\"SalesTraining\"], margins=False, normalize=False)"
   ]
  },
  {
   "cell_type": "markdown",
   "id": "a409e75f",
   "metadata": {},
   "source": [
    "# { Exercise 1 }\n",
    "\n",
    "    1. Import the \"pokemon.csv\" file; name the dataset 'poke'. Preview the first 5 rows. \n",
    "    2. Determine the frequencies of unique pokemon types (variable name: Type 1) in this dataset\n",
    "    3. Determine the relative frequencies of the unique pokemon types (variable name: Type 1) in this dataset\n",
    "    4. Create a crosstabs table that shows the frequency of pokemon stage (variable name: Stage) and legendary status (variable name: Legendary). "
   ]
  },
  {
   "cell_type": "code",
   "execution_count": 37,
   "id": "77110b4a",
   "metadata": {},
   "outputs": [],
   "source": [
    "import pandas as pd\n",
    "import numpy as np\n",
    "import scipy.stats as stats\n",
    "poke = pd.read_csv('pokemon.csv')"
   ]
  },
  {
   "cell_type": "code",
   "execution_count": 27,
   "id": "14a6a3d0",
   "metadata": {},
   "outputs": [
    {
     "data": {
      "text/html": [
       "<div>\n",
       "<style scoped>\n",
       "    .dataframe tbody tr th:only-of-type {\n",
       "        vertical-align: middle;\n",
       "    }\n",
       "\n",
       "    .dataframe tbody tr th {\n",
       "        vertical-align: top;\n",
       "    }\n",
       "\n",
       "    .dataframe thead th {\n",
       "        text-align: right;\n",
       "    }\n",
       "</style>\n",
       "<table border=\"1\" class=\"dataframe\">\n",
       "  <thead>\n",
       "    <tr style=\"text-align: right;\">\n",
       "      <th></th>\n",
       "      <th>Name</th>\n",
       "      <th>Num</th>\n",
       "      <th>Type 1</th>\n",
       "      <th>Type 2</th>\n",
       "      <th>Total</th>\n",
       "      <th>HP</th>\n",
       "      <th>Attack</th>\n",
       "      <th>Defense</th>\n",
       "      <th>SpAtk</th>\n",
       "      <th>SpDef</th>\n",
       "      <th>Speed</th>\n",
       "      <th>Stage</th>\n",
       "      <th>Legendary</th>\n",
       "    </tr>\n",
       "  </thead>\n",
       "  <tbody>\n",
       "    <tr>\n",
       "      <th>0</th>\n",
       "      <td>Bulbasaur</td>\n",
       "      <td>1</td>\n",
       "      <td>Grass</td>\n",
       "      <td>Poison</td>\n",
       "      <td>318</td>\n",
       "      <td>45</td>\n",
       "      <td>49</td>\n",
       "      <td>49</td>\n",
       "      <td>65</td>\n",
       "      <td>65</td>\n",
       "      <td>45</td>\n",
       "      <td>1</td>\n",
       "      <td>False</td>\n",
       "    </tr>\n",
       "    <tr>\n",
       "      <th>1</th>\n",
       "      <td>Ivysaur</td>\n",
       "      <td>2</td>\n",
       "      <td>Grass</td>\n",
       "      <td>Poison</td>\n",
       "      <td>405</td>\n",
       "      <td>60</td>\n",
       "      <td>62</td>\n",
       "      <td>63</td>\n",
       "      <td>80</td>\n",
       "      <td>80</td>\n",
       "      <td>60</td>\n",
       "      <td>2</td>\n",
       "      <td>False</td>\n",
       "    </tr>\n",
       "    <tr>\n",
       "      <th>2</th>\n",
       "      <td>Venusaur</td>\n",
       "      <td>3</td>\n",
       "      <td>Grass</td>\n",
       "      <td>Poison</td>\n",
       "      <td>525</td>\n",
       "      <td>80</td>\n",
       "      <td>82</td>\n",
       "      <td>83</td>\n",
       "      <td>100</td>\n",
       "      <td>100</td>\n",
       "      <td>80</td>\n",
       "      <td>3</td>\n",
       "      <td>False</td>\n",
       "    </tr>\n",
       "    <tr>\n",
       "      <th>3</th>\n",
       "      <td>Charmander</td>\n",
       "      <td>4</td>\n",
       "      <td>Fire</td>\n",
       "      <td>NaN</td>\n",
       "      <td>309</td>\n",
       "      <td>39</td>\n",
       "      <td>52</td>\n",
       "      <td>43</td>\n",
       "      <td>60</td>\n",
       "      <td>50</td>\n",
       "      <td>65</td>\n",
       "      <td>1</td>\n",
       "      <td>False</td>\n",
       "    </tr>\n",
       "    <tr>\n",
       "      <th>4</th>\n",
       "      <td>Charmeleon</td>\n",
       "      <td>5</td>\n",
       "      <td>Fire</td>\n",
       "      <td>NaN</td>\n",
       "      <td>405</td>\n",
       "      <td>58</td>\n",
       "      <td>64</td>\n",
       "      <td>58</td>\n",
       "      <td>80</td>\n",
       "      <td>65</td>\n",
       "      <td>80</td>\n",
       "      <td>2</td>\n",
       "      <td>False</td>\n",
       "    </tr>\n",
       "    <tr>\n",
       "      <th>...</th>\n",
       "      <td>...</td>\n",
       "      <td>...</td>\n",
       "      <td>...</td>\n",
       "      <td>...</td>\n",
       "      <td>...</td>\n",
       "      <td>...</td>\n",
       "      <td>...</td>\n",
       "      <td>...</td>\n",
       "      <td>...</td>\n",
       "      <td>...</td>\n",
       "      <td>...</td>\n",
       "      <td>...</td>\n",
       "      <td>...</td>\n",
       "    </tr>\n",
       "    <tr>\n",
       "      <th>146</th>\n",
       "      <td>Dratini</td>\n",
       "      <td>147</td>\n",
       "      <td>Dragon</td>\n",
       "      <td>NaN</td>\n",
       "      <td>300</td>\n",
       "      <td>41</td>\n",
       "      <td>64</td>\n",
       "      <td>45</td>\n",
       "      <td>50</td>\n",
       "      <td>50</td>\n",
       "      <td>50</td>\n",
       "      <td>1</td>\n",
       "      <td>False</td>\n",
       "    </tr>\n",
       "    <tr>\n",
       "      <th>147</th>\n",
       "      <td>Dragonair</td>\n",
       "      <td>148</td>\n",
       "      <td>Dragon</td>\n",
       "      <td>NaN</td>\n",
       "      <td>420</td>\n",
       "      <td>61</td>\n",
       "      <td>84</td>\n",
       "      <td>65</td>\n",
       "      <td>70</td>\n",
       "      <td>70</td>\n",
       "      <td>70</td>\n",
       "      <td>2</td>\n",
       "      <td>False</td>\n",
       "    </tr>\n",
       "    <tr>\n",
       "      <th>148</th>\n",
       "      <td>Dragonite</td>\n",
       "      <td>149</td>\n",
       "      <td>Dragon</td>\n",
       "      <td>Flying</td>\n",
       "      <td>600</td>\n",
       "      <td>91</td>\n",
       "      <td>134</td>\n",
       "      <td>95</td>\n",
       "      <td>100</td>\n",
       "      <td>100</td>\n",
       "      <td>80</td>\n",
       "      <td>3</td>\n",
       "      <td>False</td>\n",
       "    </tr>\n",
       "    <tr>\n",
       "      <th>149</th>\n",
       "      <td>Mewtwo</td>\n",
       "      <td>150</td>\n",
       "      <td>Psychic</td>\n",
       "      <td>NaN</td>\n",
       "      <td>680</td>\n",
       "      <td>106</td>\n",
       "      <td>110</td>\n",
       "      <td>90</td>\n",
       "      <td>154</td>\n",
       "      <td>90</td>\n",
       "      <td>130</td>\n",
       "      <td>1</td>\n",
       "      <td>True</td>\n",
       "    </tr>\n",
       "    <tr>\n",
       "      <th>150</th>\n",
       "      <td>Mew</td>\n",
       "      <td>151</td>\n",
       "      <td>Psychic</td>\n",
       "      <td>NaN</td>\n",
       "      <td>600</td>\n",
       "      <td>100</td>\n",
       "      <td>100</td>\n",
       "      <td>100</td>\n",
       "      <td>100</td>\n",
       "      <td>100</td>\n",
       "      <td>100</td>\n",
       "      <td>1</td>\n",
       "      <td>False</td>\n",
       "    </tr>\n",
       "  </tbody>\n",
       "</table>\n",
       "<p>151 rows × 13 columns</p>\n",
       "</div>"
      ],
      "text/plain": [
       "           Name  Num   Type 1  Type 2  Total   HP  Attack  Defense  SpAtk  \\\n",
       "0     Bulbasaur    1    Grass  Poison    318   45      49       49     65   \n",
       "1       Ivysaur    2    Grass  Poison    405   60      62       63     80   \n",
       "2      Venusaur    3    Grass  Poison    525   80      82       83    100   \n",
       "3    Charmander    4     Fire     NaN    309   39      52       43     60   \n",
       "4    Charmeleon    5     Fire     NaN    405   58      64       58     80   \n",
       "..          ...  ...      ...     ...    ...  ...     ...      ...    ...   \n",
       "146     Dratini  147   Dragon     NaN    300   41      64       45     50   \n",
       "147   Dragonair  148   Dragon     NaN    420   61      84       65     70   \n",
       "148   Dragonite  149   Dragon  Flying    600   91     134       95    100   \n",
       "149      Mewtwo  150  Psychic     NaN    680  106     110       90    154   \n",
       "150         Mew  151  Psychic     NaN    600  100     100      100    100   \n",
       "\n",
       "     SpDef  Speed  Stage  Legendary  \n",
       "0       65     45      1      False  \n",
       "1       80     60      2      False  \n",
       "2      100     80      3      False  \n",
       "3       50     65      1      False  \n",
       "4       65     80      2      False  \n",
       "..     ...    ...    ...        ...  \n",
       "146     50     50      1      False  \n",
       "147     70     70      2      False  \n",
       "148    100     80      3      False  \n",
       "149     90    130      1       True  \n",
       "150    100    100      1      False  \n",
       "\n",
       "[151 rows x 13 columns]"
      ]
     },
     "execution_count": 27,
     "metadata": {},
     "output_type": "execute_result"
    }
   ],
   "source": [
    "poke"
   ]
  },
  {
   "cell_type": "code",
   "execution_count": 30,
   "id": "60c863f7",
   "metadata": {},
   "outputs": [
    {
     "data": {
      "text/html": [
       "<div>\n",
       "<style scoped>\n",
       "    .dataframe tbody tr th:only-of-type {\n",
       "        vertical-align: middle;\n",
       "    }\n",
       "\n",
       "    .dataframe tbody tr th {\n",
       "        vertical-align: top;\n",
       "    }\n",
       "\n",
       "    .dataframe thead th {\n",
       "        text-align: right;\n",
       "    }\n",
       "</style>\n",
       "<table border=\"1\" class=\"dataframe\">\n",
       "  <thead>\n",
       "    <tr style=\"text-align: right;\">\n",
       "      <th></th>\n",
       "      <th>Name</th>\n",
       "      <th>Num</th>\n",
       "      <th>Type 1</th>\n",
       "      <th>Type 2</th>\n",
       "      <th>Total</th>\n",
       "      <th>HP</th>\n",
       "      <th>Attack</th>\n",
       "      <th>Defense</th>\n",
       "      <th>SpAtk</th>\n",
       "      <th>SpDef</th>\n",
       "      <th>Speed</th>\n",
       "      <th>Stage</th>\n",
       "      <th>Legendary</th>\n",
       "    </tr>\n",
       "  </thead>\n",
       "  <tbody>\n",
       "    <tr>\n",
       "      <th>0</th>\n",
       "      <td>Bulbasaur</td>\n",
       "      <td>1</td>\n",
       "      <td>Grass</td>\n",
       "      <td>Poison</td>\n",
       "      <td>318</td>\n",
       "      <td>45</td>\n",
       "      <td>49</td>\n",
       "      <td>49</td>\n",
       "      <td>65</td>\n",
       "      <td>65</td>\n",
       "      <td>45</td>\n",
       "      <td>1</td>\n",
       "      <td>False</td>\n",
       "    </tr>\n",
       "    <tr>\n",
       "      <th>1</th>\n",
       "      <td>Ivysaur</td>\n",
       "      <td>2</td>\n",
       "      <td>Grass</td>\n",
       "      <td>Poison</td>\n",
       "      <td>405</td>\n",
       "      <td>60</td>\n",
       "      <td>62</td>\n",
       "      <td>63</td>\n",
       "      <td>80</td>\n",
       "      <td>80</td>\n",
       "      <td>60</td>\n",
       "      <td>2</td>\n",
       "      <td>False</td>\n",
       "    </tr>\n",
       "    <tr>\n",
       "      <th>2</th>\n",
       "      <td>Venusaur</td>\n",
       "      <td>3</td>\n",
       "      <td>Grass</td>\n",
       "      <td>Poison</td>\n",
       "      <td>525</td>\n",
       "      <td>80</td>\n",
       "      <td>82</td>\n",
       "      <td>83</td>\n",
       "      <td>100</td>\n",
       "      <td>100</td>\n",
       "      <td>80</td>\n",
       "      <td>3</td>\n",
       "      <td>False</td>\n",
       "    </tr>\n",
       "    <tr>\n",
       "      <th>3</th>\n",
       "      <td>Charmander</td>\n",
       "      <td>4</td>\n",
       "      <td>Fire</td>\n",
       "      <td>NaN</td>\n",
       "      <td>309</td>\n",
       "      <td>39</td>\n",
       "      <td>52</td>\n",
       "      <td>43</td>\n",
       "      <td>60</td>\n",
       "      <td>50</td>\n",
       "      <td>65</td>\n",
       "      <td>1</td>\n",
       "      <td>False</td>\n",
       "    </tr>\n",
       "    <tr>\n",
       "      <th>4</th>\n",
       "      <td>Charmeleon</td>\n",
       "      <td>5</td>\n",
       "      <td>Fire</td>\n",
       "      <td>NaN</td>\n",
       "      <td>405</td>\n",
       "      <td>58</td>\n",
       "      <td>64</td>\n",
       "      <td>58</td>\n",
       "      <td>80</td>\n",
       "      <td>65</td>\n",
       "      <td>80</td>\n",
       "      <td>2</td>\n",
       "      <td>False</td>\n",
       "    </tr>\n",
       "  </tbody>\n",
       "</table>\n",
       "</div>"
      ],
      "text/plain": [
       "         Name  Num Type 1  Type 2  Total  HP  Attack  Defense  SpAtk  SpDef  \\\n",
       "0   Bulbasaur    1  Grass  Poison    318  45      49       49     65     65   \n",
       "1     Ivysaur    2  Grass  Poison    405  60      62       63     80     80   \n",
       "2    Venusaur    3  Grass  Poison    525  80      82       83    100    100   \n",
       "3  Charmander    4   Fire     NaN    309  39      52       43     60     50   \n",
       "4  Charmeleon    5   Fire     NaN    405  58      64       58     80     65   \n",
       "\n",
       "   Speed  Stage  Legendary  \n",
       "0     45      1      False  \n",
       "1     60      2      False  \n",
       "2     80      3      False  \n",
       "3     65      1      False  \n",
       "4     80      2      False  "
      ]
     },
     "execution_count": 30,
     "metadata": {},
     "output_type": "execute_result"
    }
   ],
   "source": [
    "poke.head(5)"
   ]
  },
  {
   "cell_type": "code",
   "execution_count": 31,
   "id": "70760a9c",
   "metadata": {},
   "outputs": [
    {
     "data": {
      "text/plain": [
       "Water       28\n",
       "Normal      22\n",
       "Poison      14\n",
       "Grass       12\n",
       "Fire        12\n",
       "Bug         12\n",
       "Electric     9\n",
       "Rock         9\n",
       "Ground       8\n",
       "Psychic      8\n",
       "Fighting     7\n",
       "Ghost        3\n",
       "Dragon       3\n",
       "Fairy        2\n",
       "Ice          2\n",
       "Name: Type 1, dtype: int64"
      ]
     },
     "execution_count": 31,
     "metadata": {},
     "output_type": "execute_result"
    }
   ],
   "source": [
    "poke['Type 1'].value_counts()"
   ]
  },
  {
   "cell_type": "code",
   "execution_count": 32,
   "id": "98fbcc98",
   "metadata": {},
   "outputs": [
    {
     "data": {
      "text/plain": [
       "Water       0.185430\n",
       "Normal      0.145695\n",
       "Poison      0.092715\n",
       "Grass       0.079470\n",
       "Fire        0.079470\n",
       "Bug         0.079470\n",
       "Electric    0.059603\n",
       "Rock        0.059603\n",
       "Ground      0.052980\n",
       "Psychic     0.052980\n",
       "Fighting    0.046358\n",
       "Ghost       0.019868\n",
       "Dragon      0.019868\n",
       "Fairy       0.013245\n",
       "Ice         0.013245\n",
       "Name: Type 1, dtype: float64"
      ]
     },
     "execution_count": 32,
     "metadata": {},
     "output_type": "execute_result"
    }
   ],
   "source": [
    "poke['Type 1'].value_counts(normalize =True)"
   ]
  },
  {
   "cell_type": "code",
   "execution_count": 19,
   "id": "a3d83653",
   "metadata": {},
   "outputs": [
    {
     "data": {
      "text/html": [
       "<div>\n",
       "<style scoped>\n",
       "    .dataframe tbody tr th:only-of-type {\n",
       "        vertical-align: middle;\n",
       "    }\n",
       "\n",
       "    .dataframe tbody tr th {\n",
       "        vertical-align: top;\n",
       "    }\n",
       "\n",
       "    .dataframe thead th {\n",
       "        text-align: right;\n",
       "    }\n",
       "</style>\n",
       "<table border=\"1\" class=\"dataframe\">\n",
       "  <thead>\n",
       "    <tr style=\"text-align: right;\">\n",
       "      <th>Legendary</th>\n",
       "      <th>False</th>\n",
       "      <th>True</th>\n",
       "    </tr>\n",
       "    <tr>\n",
       "      <th>Stage</th>\n",
       "      <th></th>\n",
       "      <th></th>\n",
       "    </tr>\n",
       "  </thead>\n",
       "  <tbody>\n",
       "    <tr>\n",
       "      <th>1</th>\n",
       "      <td>75</td>\n",
       "      <td>4</td>\n",
       "    </tr>\n",
       "    <tr>\n",
       "      <th>2</th>\n",
       "      <td>56</td>\n",
       "      <td>0</td>\n",
       "    </tr>\n",
       "    <tr>\n",
       "      <th>3</th>\n",
       "      <td>16</td>\n",
       "      <td>0</td>\n",
       "    </tr>\n",
       "  </tbody>\n",
       "</table>\n",
       "</div>"
      ],
      "text/plain": [
       "Legendary  False  True\n",
       "Stage                 \n",
       "1             75     4\n",
       "2             56     0\n",
       "3             16     0"
      ]
     },
     "execution_count": 19,
     "metadata": {},
     "output_type": "execute_result"
    }
   ],
   "source": [
    "pd.crosstab(poke[\"Stage\"], poke[\"Legendary\"], margins=False, normalize=False)"
   ]
  },
  {
   "cell_type": "code",
   "execution_count": null,
   "id": "c639f176",
   "metadata": {},
   "outputs": [],
   "source": []
  },
  {
   "cell_type": "markdown",
   "id": "06401fbf",
   "metadata": {},
   "source": [
    "## Describing Quantitative Data\n",
    "\n",
    "There are many more techniques for describing quantitative data compared to qualitative. When summarizing quantitative data, the objective is to get a sense of how the data is clustered and the variation in numeric values. \n",
    "\n",
    "***\n",
    "\n",
    "### Measures of Central Tendency\n",
    "\n",
    "Measures of Central Tendency are estimates of what a \"typical\" value/data point is within your set of data. A measure of central tendency is a number around which an entire sample of data is spread. We can describe this central position using several statistics, including the mean (average), the median, and the mode. \n",
    "\n",
    "Measures of central tendency can be visualized with a frequency distribution (histogram). A frequency distribution is a description of values and how often each value occurs within your dataset. When you graph a frequency distribution a pattern/shape should give insight into which values occured the most/least. \n",
    "\n",
    "<img src=\"NormalDist.jpg\">\n",
    "\n",
    "***\n",
    "\n",
    "#### Mean\n",
    "\n",
    "The mean, which is the most commonly known and used measure of central tendency, is the arithmetic average of a set of numeric values. The mean is calculated by adding all the values together and dividing by the total number of values in the set of values. In specific sets of data, the mean is the central point in the frequency distribution aka the hump. "
   ]
  },
  {
   "cell_type": "code",
   "execution_count": 46,
   "id": "9875c190",
   "metadata": {},
   "outputs": [
    {
     "data": {
      "text/plain": [
       "33.727727727727725"
      ]
     },
     "execution_count": 46,
     "metadata": {},
     "output_type": "execute_result"
    }
   ],
   "source": [
    "## Calculate the Mean of a column \n",
    "\n",
    "df[\"Hours Worked\"].mean()"
   ]
  },
  {
   "cell_type": "markdown",
   "id": "b2722e86",
   "metadata": {},
   "source": [
    "#### Median \n",
    "\n",
    "The median is the value which divides the data into two equal parts when the data is arranged from least to greatest. The median will be the middle value if the number of values is odd, otherwise, it will be the average of the two middle values if the number of values is even. "
   ]
  },
  {
   "cell_type": "code",
   "execution_count": 47,
   "id": "24bffb75",
   "metadata": {},
   "outputs": [
    {
     "data": {
      "text/plain": [
       "34.0"
      ]
     },
     "execution_count": 47,
     "metadata": {},
     "output_type": "execute_result"
    }
   ],
   "source": [
    "## Calculate the Median of a column \n",
    "\n",
    "df[\"Hours Worked\"].median()"
   ]
  },
  {
   "cell_type": "markdown",
   "id": "47a9f4a9",
   "metadata": {},
   "source": [
    "#### Mode \n",
    "\n",
    "The mode is the value that appears most frequently in a sample of data, or the value that has the highest frequency. It is possible for a set of data to have no mode, and it is possible for a set of data to have multiple modes. "
   ]
  },
  {
   "cell_type": "code",
   "execution_count": 48,
   "id": "62704419",
   "metadata": {},
   "outputs": [
    {
     "data": {
      "text/plain": [
       "0    38\n",
       "dtype: int64"
      ]
     },
     "execution_count": 48,
     "metadata": {},
     "output_type": "execute_result"
    }
   ],
   "source": [
    "## Calculate the Mode of a column \n",
    "\n",
    "df[\"Hours Worked\"].mode()"
   ]
  },
  {
   "cell_type": "markdown",
   "id": "238561a5",
   "metadata": {},
   "source": [
    "# { Exercise 2 }\n",
    "\n",
    "    1. Using the pokemon dataset ('poke'), calculate the mean attack value (Attack) in the dataset.  \n",
    "    2. Determine the median defense value (Defense). Write a single sentence on what your findings mean. \n",
    "    3. Determine the mode of the speed (Speed) column. Write a single sentence on what your findings mean. "
   ]
  },
  {
   "cell_type": "code",
   "execution_count": 49,
   "id": "4279bb85",
   "metadata": {},
   "outputs": [
    {
     "data": {
      "text/plain": [
       "72.54966887417218"
      ]
     },
     "execution_count": 49,
     "metadata": {},
     "output_type": "execute_result"
    }
   ],
   "source": [
    "poke['Attack'].mean()"
   ]
  },
  {
   "cell_type": "code",
   "execution_count": 50,
   "id": "970ef683",
   "metadata": {},
   "outputs": [
    {
     "data": {
      "text/plain": [
       "65.0"
      ]
     },
     "execution_count": 50,
     "metadata": {},
     "output_type": "execute_result"
    }
   ],
   "source": [
    "poke['Defense'].median()"
   ]
  },
  {
   "cell_type": "code",
   "execution_count": 51,
   "id": "ee15bd71",
   "metadata": {},
   "outputs": [
    {
     "data": {
      "text/plain": [
       "0    70\n",
       "1    90\n",
       "dtype: int64"
      ]
     },
     "execution_count": 51,
     "metadata": {},
     "output_type": "execute_result"
    }
   ],
   "source": [
    "poke['Speed'].mode()"
   ]
  },
  {
   "cell_type": "markdown",
   "id": "bd766711",
   "metadata": {},
   "source": [
    "### Data Distribution and Measurement Sensitivity\n",
    "***\n",
    "\n",
    "### Normally distributed data vs. non-normally distributed data\n",
    "\n",
    "Several statistics are suited for data that follows a <b>normal distribution</b>. When visualized, normally distributed data lies in a symmetrical pattern (bell-shape) where the majority of the data surrounds the mean with decreasing amounts evenly distributed to the left and the right. \n",
    "\n",
    "While this is the ideal, real-world data is not always normally distributed. Non-normal distribution is possible and there are several statistics that can still be used with non-normally distributed data. It is important to determine how your data is distributed before you embark on certain statistics. \n",
    "\n",
    "#### Distribution and Measure of Central Tendency\n",
    "\n",
    "The shape of the data helps to determine which measure of central tendency should be reported. Some statistics are very sensitive to non-normal distributions, while others are more resilient. Three of the most common shapes to learn are symmetric, left-skewed, and right-skewed. <b>Skew</b> is simply a measure of the asymmetry of the distribution. <b>In the below images, while not shown, the values are increasing from left to right.</b> \n",
    "\n",
    "#### Symmetric Data\n",
    "* mean, median, and mode are all the same here\n",
    "* no skewness is apparent\n",
    "* the distribution is described as symmetric\n",
    "\n",
    "<img src=\"Symmetrical.jpg\">\n",
    "\n",
    "***\n",
    "\n",
    "#### Left-skewed Data\n",
    "* mean < median\n",
    "* long tail on the left\n",
    "\n",
    "<img src=\"LeftSkew.jpg\">\n",
    "\n",
    "***\n",
    "\n",
    "#### Right-skewed Data\n",
    "* mean > median\n",
    "* long tail on the right\n",
    "\n",
    "<img src=\"RightSkew.jpg\">\n",
    "\n",
    "***\n",
    "\n",
    "### Considerations for Shape\n",
    "\n",
    "When your data is skewed in either direction, you should consider the best measure of central tendency to report. The median is best used when you have skewed data. This is because the median is less affected by extreme values. \n",
    "\n",
    "If your data is skewed, this could be an indication that your data has extreme high or low values that are contributing to the skewness. Later in this lesson, we will talk about how to handle extreme values. "
   ]
  },
  {
   "cell_type": "code",
   "execution_count": null,
   "id": "2d58a707",
   "metadata": {},
   "outputs": [],
   "source": []
  },
  {
   "cell_type": "code",
   "execution_count": null,
   "id": "2427e6e8",
   "metadata": {},
   "outputs": [],
   "source": []
  },
  {
   "cell_type": "markdown",
   "id": "7141c9ea",
   "metadata": {},
   "source": [
    "### Measures of Variability (or Spread)\n",
    "\n",
    "Measures of Variability, or spread, describe the amount of dispersion in your data sample. In other words, measures of variability, describe how spread out values are. For example, in a sample of 100 students, the average test score is 75. However, not all students will have gotten a 75 - their scores will be spread out above and below the average, some will be higher and some lower. To describe the spread of our data, we can use several statistics, including range, standard deviation, percentiles, and quartiles.\n",
    "\n",
    "***\n",
    "\n",
    "#### Range\n",
    "\n",
    "The range is the difference between the lowest and highest value in a set of data. For example, if the maximum value is 10 and the minimum value is 2, the range is 8. The larger the range, the larger the difference between the highest and lowest values. "
   ]
  },
  {
   "cell_type": "code",
   "execution_count": 52,
   "id": "8e051a04",
   "metadata": {},
   "outputs": [
    {
     "name": "stdout",
     "output_type": "stream",
     "text": [
      "28\n"
     ]
    }
   ],
   "source": [
    "## Calculate the range of values in a column\n",
    "\n",
    "hrs_range = df['Hours Worked'].max() - df['Hours Worked'].min()\n",
    "\n",
    "print(hrs_range)"
   ]
  },
  {
   "cell_type": "markdown",
   "id": "268202ff",
   "metadata": {},
   "source": [
    "#### Standard Deviation (SD)\n",
    "\n",
    "The SD is a measurement of the average distance between each data value and the mean. You can consider SD as a measure of how spread out the data is from the mean. A low SD indicates that the data points are clustered around the mean, while a high SD indicates the data points are spread out over a wider range of values. \n",
    "\n",
    "<img src=\"https://d20khd7ddkh5ls.cloudfront.net/high_low_standard_deviation.png\">"
   ]
  },
  {
   "cell_type": "code",
   "execution_count": 73,
   "id": "4c6d3b46",
   "metadata": {},
   "outputs": [
    {
     "name": "stdout",
     "output_type": "stream",
     "text": [
      "Mean hours worked by all employees: 33.727727727727725\n"
     ]
    },
    {
     "data": {
      "text/plain": [
       "8.223453795492198"
      ]
     },
     "execution_count": 73,
     "metadata": {},
     "output_type": "execute_result"
    }
   ],
   "source": [
    "## Calculate the Standard Deviation of values in a column\n",
    "\n",
    "print(\"Mean hours worked by all employees:\", df[\"Hours Worked\"].mean())\n",
    "\n",
    "df[\"Hours Worked\"].std()"
   ]
  },
  {
   "cell_type": "markdown",
   "id": "fdd0c97b",
   "metadata": {},
   "source": [
    "#### Percentiles\n",
    "\n",
    "Percentiles give insight into the relation of one data point to other data points within the same dataset. When the data values are arranged from lowest to highest, percentiles represent the position of a value within the list of values. For example, if a value is at the 50th percentile - 50% of the data falls below the value, and 50% fall above the value. If a value is at the 85th percentile - 85% of the data falls below the value, and 15% fall above the value. "
   ]
  },
  {
   "cell_type": "code",
   "execution_count": 21,
   "id": "03f15bee",
   "metadata": {},
   "outputs": [
    {
     "data": {
      "text/plain": [
       "44.0"
      ]
     },
     "execution_count": 21,
     "metadata": {},
     "output_type": "execute_result"
    }
   ],
   "source": [
    "## Calculate percentiles of values in a column\n",
    "## To determine the value that falls at a specific percentile\n",
    "## np.percentile(data/column, percentile value)\n",
    "\n",
    "np.percentile(df['Hours Worked'], 85)\n",
    "\n",
    "## Determine which value falls at the 85th percentile? \n",
    "## 85% of the values in Hours Worked are below this value, 15% are above this value. "
   ]
  },
  {
   "cell_type": "markdown",
   "id": "404b48bb",
   "metadata": {},
   "source": [
    "#### Quartiles \n",
    "\n",
    "Quartiles are values that divide a set of data into equal quarters (when the data is ordered from lowest to highest). There are <b>three</b> quartile values that divide the data into four parts (see below). \n",
    "\n",
    "<img src=\"quar.png\">\n",
    "\n",
    "* The first quartile (Q1) is at the 25th percentile (25% below, 75% above)\n",
    "* The second quartile (Q2) is at the 50th percentile (50% below, 50% above, median)\n",
    "* The third quartile (Q3) is at the 75th percentile (75% below, 25% above)\n",
    "\n",
    "<b>Quartiles can be used to calculate the Interquartile Range (IQR) - which can be used to handle outliers in your dataset.</b>"
   ]
  },
  {
   "cell_type": "code",
   "execution_count": 25,
   "id": "5a401565",
   "metadata": {},
   "outputs": [
    {
     "data": {
      "text/plain": [
       "27.0"
      ]
     },
     "execution_count": 25,
     "metadata": {},
     "output_type": "execute_result"
    }
   ],
   "source": [
    "## Determine the three quartiles of a set of data\n",
    "## A quantile is a series of values, or cut points, that divide a set of data into equal parts \n",
    "## A 'quartile' is a specical kind of quantile that divides the data into four equal parts\n",
    "\n",
    "df['Hours Worked'].quantile(.25) \n",
    "\n",
    "#Q1 = .25\n",
    "#Q2 = .50\n",
    "#Q3 = .75"
   ]
  },
  {
   "cell_type": "code",
   "execution_count": 55,
   "id": "0cc62833",
   "metadata": {},
   "outputs": [
    {
     "data": {
      "text/plain": [
       "34.0"
      ]
     },
     "execution_count": 55,
     "metadata": {},
     "output_type": "execute_result"
    }
   ],
   "source": [
    "df['Hours Worked'].quantile(.50)"
   ]
  },
  {
   "cell_type": "code",
   "execution_count": 56,
   "id": "768807b0",
   "metadata": {},
   "outputs": [
    {
     "data": {
      "text/plain": [
       "41.0"
      ]
     },
     "execution_count": 56,
     "metadata": {},
     "output_type": "execute_result"
    }
   ],
   "source": [
    "df['Hours Worked'].quantile(.75)"
   ]
  },
  {
   "cell_type": "markdown",
   "id": "70809067",
   "metadata": {},
   "source": [
    "#### All of the Above \n",
    "\n",
    "The describe function is perfect for outputting multiple descriptive statistics at once. This will save you multiple steps if you want to look at one or several quantitative variables. "
   ]
  },
  {
   "cell_type": "code",
   "execution_count": null,
   "id": "9838dfea",
   "metadata": {},
   "outputs": [],
   "source": []
  },
  {
   "cell_type": "code",
   "execution_count": 76,
   "id": "c6c02bf7",
   "metadata": {},
   "outputs": [
    {
     "data": {
      "text/html": [
       "<div>\n",
       "<style scoped>\n",
       "    .dataframe tbody tr th:only-of-type {\n",
       "        vertical-align: middle;\n",
       "    }\n",
       "\n",
       "    .dataframe tbody tr th {\n",
       "        vertical-align: top;\n",
       "    }\n",
       "\n",
       "    .dataframe thead th {\n",
       "        text-align: right;\n",
       "    }\n",
       "</style>\n",
       "<table border=\"1\" class=\"dataframe\">\n",
       "  <thead>\n",
       "    <tr style=\"text-align: right;\">\n",
       "      <th></th>\n",
       "      <th>Hours Worked</th>\n",
       "      <th>Years Experience</th>\n",
       "      <th>Cars Sold</th>\n",
       "    </tr>\n",
       "  </thead>\n",
       "  <tbody>\n",
       "    <tr>\n",
       "      <th>count</th>\n",
       "      <td>999.000000</td>\n",
       "      <td>999.000000</td>\n",
       "      <td>999.000000</td>\n",
       "    </tr>\n",
       "    <tr>\n",
       "      <th>mean</th>\n",
       "      <td>33.727728</td>\n",
       "      <td>3.026026</td>\n",
       "      <td>3.922923</td>\n",
       "    </tr>\n",
       "    <tr>\n",
       "      <th>std</th>\n",
       "      <td>8.223454</td>\n",
       "      <td>1.394709</td>\n",
       "      <td>1.527000</td>\n",
       "    </tr>\n",
       "    <tr>\n",
       "      <th>min</th>\n",
       "      <td>20.000000</td>\n",
       "      <td>1.000000</td>\n",
       "      <td>1.000000</td>\n",
       "    </tr>\n",
       "    <tr>\n",
       "      <th>25%</th>\n",
       "      <td>27.000000</td>\n",
       "      <td>2.000000</td>\n",
       "      <td>3.000000</td>\n",
       "    </tr>\n",
       "    <tr>\n",
       "      <th>50%</th>\n",
       "      <td>34.000000</td>\n",
       "      <td>3.000000</td>\n",
       "      <td>4.000000</td>\n",
       "    </tr>\n",
       "    <tr>\n",
       "      <th>75%</th>\n",
       "      <td>41.000000</td>\n",
       "      <td>4.000000</td>\n",
       "      <td>5.000000</td>\n",
       "    </tr>\n",
       "    <tr>\n",
       "      <th>max</th>\n",
       "      <td>48.000000</td>\n",
       "      <td>5.000000</td>\n",
       "      <td>7.000000</td>\n",
       "    </tr>\n",
       "  </tbody>\n",
       "</table>\n",
       "</div>"
      ],
      "text/plain": [
       "       Hours Worked  Years Experience   Cars Sold\n",
       "count    999.000000        999.000000  999.000000\n",
       "mean      33.727728          3.026026    3.922923\n",
       "std        8.223454          1.394709    1.527000\n",
       "min       20.000000          1.000000    1.000000\n",
       "25%       27.000000          2.000000    3.000000\n",
       "50%       34.000000          3.000000    4.000000\n",
       "75%       41.000000          4.000000    5.000000\n",
       "max       48.000000          5.000000    7.000000"
      ]
     },
     "execution_count": 76,
     "metadata": {},
     "output_type": "execute_result"
    }
   ],
   "source": [
    "## Use the describe function to view multiple statistics at the same time\n",
    "\n",
    "df.describe()"
   ]
  },
  {
   "cell_type": "code",
   "execution_count": 77,
   "id": "8d7fc4f7",
   "metadata": {},
   "outputs": [
    {
     "data": {
      "text/plain": [
       "count    999.000000\n",
       "mean      33.727728\n",
       "std        8.223454\n",
       "min       20.000000\n",
       "25%       27.000000\n",
       "50%       34.000000\n",
       "75%       41.000000\n",
       "max       48.000000\n",
       "Name: Hours Worked, dtype: float64"
      ]
     },
     "execution_count": 77,
     "metadata": {},
     "output_type": "execute_result"
    }
   ],
   "source": [
    "## Use the describe function to isolate information for a single column\n",
    "\n",
    "df['Hours Worked'].describe()"
   ]
  },
  {
   "cell_type": "markdown",
   "id": "6fef3e31",
   "metadata": {},
   "source": [
    "# { Exercise 3 }\n",
    "\n",
    "    1. Using the pokemon dataset ('poke'), calculate the range for the HP column. \n",
    "    2. What is the mean and the standard deviation for the special attack (SpAtk) column?\n",
    "    3. For the Attack column, determine which value falls at the 80th percentile? Which value falls at the 15th percentile? For each of these values, write a single sentence describing what this means. \n",
    "    4. Calculate the second quartile (or the median) for the special defense (SpDef) column. Then, calculate the median of the same column using the method shown above. Are the values the same? "
   ]
  },
  {
   "cell_type": "code",
   "execution_count": 39,
   "id": "8eaf258a",
   "metadata": {},
   "outputs": [
    {
     "name": "stdout",
     "output_type": "stream",
     "text": [
      "240\n"
     ]
    }
   ],
   "source": [
    "hp_range = poke['HP'].max()- poke['HP'].min()\n",
    "\n",
    "print(hp_range)"
   ]
  },
  {
   "cell_type": "code",
   "execution_count": 32,
   "id": "a7aed6b0",
   "metadata": {},
   "outputs": [
    {
     "data": {
      "text/plain": [
       "67.13907284768212"
      ]
     },
     "execution_count": 32,
     "metadata": {},
     "output_type": "execute_result"
    }
   ],
   "source": [
    "poke['SpAtk'].mean()"
   ]
  },
  {
   "cell_type": "code",
   "execution_count": 33,
   "id": "3eb702f0",
   "metadata": {},
   "outputs": [
    {
     "data": {
      "text/plain": [
       "28.53419930191353"
      ]
     },
     "execution_count": 33,
     "metadata": {},
     "output_type": "execute_result"
    }
   ],
   "source": [
    "poke['SpAtk'].std()"
   ]
  },
  {
   "cell_type": "code",
   "execution_count": 34,
   "id": "eb849b80",
   "metadata": {},
   "outputs": [
    {
     "data": {
      "text/plain": [
       "95.0"
      ]
     },
     "execution_count": 34,
     "metadata": {},
     "output_type": "execute_result"
    }
   ],
   "source": [
    "np.percentile(poke['Attack'], 80)"
   ]
  },
  {
   "cell_type": "code",
   "execution_count": null,
   "id": "1a00b9c1",
   "metadata": {},
   "outputs": [],
   "source": [
    "#80% of the values in Attack are below 95.0"
   ]
  },
  {
   "cell_type": "code",
   "execution_count": 35,
   "id": "371f0516",
   "metadata": {},
   "outputs": [
    {
     "data": {
      "text/plain": [
       "45.0"
      ]
     },
     "execution_count": 35,
     "metadata": {},
     "output_type": "execute_result"
    }
   ],
   "source": [
    "np.percentile(poke['Attack'], 15)"
   ]
  },
  {
   "cell_type": "code",
   "execution_count": null,
   "id": "c04eac0e",
   "metadata": {},
   "outputs": [],
   "source": [
    "#15 % of the values in Attack are below 45.0"
   ]
  },
  {
   "cell_type": "code",
   "execution_count": 41,
   "id": "4bbc29fd",
   "metadata": {},
   "outputs": [
    {
     "data": {
      "text/plain": [
       "65.0"
      ]
     },
     "execution_count": 41,
     "metadata": {},
     "output_type": "execute_result"
    }
   ],
   "source": [
    "poke['SpDef'].quantile(.50)"
   ]
  },
  {
   "cell_type": "code",
   "execution_count": 42,
   "id": "6dcabfa7",
   "metadata": {},
   "outputs": [
    {
     "data": {
      "text/plain": [
       "65.0"
      ]
     },
     "execution_count": 42,
     "metadata": {},
     "output_type": "execute_result"
    }
   ],
   "source": [
    "poke['SpDef'].median()"
   ]
  },
  {
   "cell_type": "code",
   "execution_count": null,
   "id": "f88604b0",
   "metadata": {},
   "outputs": [],
   "source": [
    "# the second quartile and the median have the same value"
   ]
  },
  {
   "cell_type": "markdown",
   "id": "e1d602cd",
   "metadata": {},
   "source": [
    "## Handling and Removing Outliers\n",
    "\n",
    "***\n",
    "\n",
    "Outliers are data points that differ significantly from other data points. Outliers are an important feature of a dataset that should be identified and addressed because extreme values can influence the results of your statistics. \n",
    "\n",
    "   * In a sample of 5 students, their ages are 25, 22, 97, 23, 21 - 97 is an outlier because the value differs significantly from the remaining data.\n",
    "   * Without removing outlier, the mean is: 37.6 and the median is: 23\n",
    "   * When removing the outlier, the mean is: 22.75 and the median is: 22.5\n",
    "\n",
    "Determining which values are extreme can be challenging when you have a larger dataset. There are several methods that can be used to strategically determine which values are outliers, we will cover two separate methods below. "
   ]
  },
  {
   "cell_type": "code",
   "execution_count": 43,
   "id": "5100993b",
   "metadata": {},
   "outputs": [
    {
     "data": {
      "text/html": [
       "<div>\n",
       "<style scoped>\n",
       "    .dataframe tbody tr th:only-of-type {\n",
       "        vertical-align: middle;\n",
       "    }\n",
       "\n",
       "    .dataframe tbody tr th {\n",
       "        vertical-align: top;\n",
       "    }\n",
       "\n",
       "    .dataframe thead th {\n",
       "        text-align: right;\n",
       "    }\n",
       "</style>\n",
       "<table border=\"1\" class=\"dataframe\">\n",
       "  <thead>\n",
       "    <tr style=\"text-align: right;\">\n",
       "      <th></th>\n",
       "      <th>Employee</th>\n",
       "      <th>YearsExperience</th>\n",
       "      <th>Salary</th>\n",
       "      <th>Age</th>\n",
       "      <th>Gender</th>\n",
       "      <th>RemoteStatus</th>\n",
       "      <th>Region</th>\n",
       "      <th>CompanyCar</th>\n",
       "      <th>Shift</th>\n",
       "      <th>PerformanceReviewScore</th>\n",
       "    </tr>\n",
       "  </thead>\n",
       "  <tbody>\n",
       "    <tr>\n",
       "      <th>0</th>\n",
       "      <td>Richard</td>\n",
       "      <td>5.1</td>\n",
       "      <td>66029</td>\n",
       "      <td>41</td>\n",
       "      <td>Female</td>\n",
       "      <td>0</td>\n",
       "      <td>Central</td>\n",
       "      <td>Y</td>\n",
       "      <td>2</td>\n",
       "      <td>98.3</td>\n",
       "    </tr>\n",
       "    <tr>\n",
       "      <th>1</th>\n",
       "      <td>Nick</td>\n",
       "      <td>5.9</td>\n",
       "      <td>8136300</td>\n",
       "      <td>39</td>\n",
       "      <td>Female</td>\n",
       "      <td>0</td>\n",
       "      <td>Central</td>\n",
       "      <td>Y</td>\n",
       "      <td>3</td>\n",
       "      <td>105.7</td>\n",
       "    </tr>\n",
       "    <tr>\n",
       "      <th>2</th>\n",
       "      <td>Morgan</td>\n",
       "      <td>9.5</td>\n",
       "      <td>116969</td>\n",
       "      <td>50</td>\n",
       "      <td>Female</td>\n",
       "      <td>1</td>\n",
       "      <td>Central</td>\n",
       "      <td>N</td>\n",
       "      <td>1</td>\n",
       "      <td>145.0</td>\n",
       "    </tr>\n",
       "    <tr>\n",
       "      <th>3</th>\n",
       "      <td>Susan</td>\n",
       "      <td>3.2</td>\n",
       "      <td>64445</td>\n",
       "      <td>27</td>\n",
       "      <td>Male</td>\n",
       "      <td>0</td>\n",
       "      <td>Central</td>\n",
       "      <td>Y</td>\n",
       "      <td>3</td>\n",
       "      <td>75.1</td>\n",
       "    </tr>\n",
       "    <tr>\n",
       "      <th>4</th>\n",
       "      <td>Matthew</td>\n",
       "      <td>8.2</td>\n",
       "      <td>113812</td>\n",
       "      <td>47</td>\n",
       "      <td>Female</td>\n",
       "      <td>1</td>\n",
       "      <td>Central</td>\n",
       "      <td>N</td>\n",
       "      <td>2</td>\n",
       "      <td>131.1</td>\n",
       "    </tr>\n",
       "  </tbody>\n",
       "</table>\n",
       "</div>"
      ],
      "text/plain": [
       "  Employee  YearsExperience   Salary  Age  Gender  RemoteStatus   Region  \\\n",
       "0  Richard              5.1    66029   41  Female             0  Central   \n",
       "1     Nick              5.9  8136300   39  Female             0  Central   \n",
       "2   Morgan              9.5   116969   50  Female             1  Central   \n",
       "3    Susan              3.2    64445   27    Male             0  Central   \n",
       "4  Matthew              8.2   113812   47  Female             1  Central   \n",
       "\n",
       "  CompanyCar  Shift  PerformanceReviewScore  \n",
       "0          Y      2                    98.3  \n",
       "1          Y      3                   105.7  \n",
       "2          N      1                   145.0  \n",
       "3          Y      3                    75.1  \n",
       "4          N      2                   131.1  "
      ]
     },
     "execution_count": 43,
     "metadata": {},
     "output_type": "execute_result"
    }
   ],
   "source": [
    "df = pd.read_csv(\"SalaryData.csv\")\n",
    "df.head()"
   ]
  },
  {
   "cell_type": "markdown",
   "id": "4e2bbacb",
   "metadata": {},
   "source": [
    "## Method 1 : Using z-scores to detect and remove outliers\n",
    "\n",
    "In statistics, the <font color=salmon><b>Empirical Rule</b></font> estimates how data, following a normal distribution, will spread around the mean. According to this rule, basically all data values will fall within 3 SD's above or below the mean. The Empirical Rule is also known as the <font color=salmon><b>68-95-99.7 Rule</b></font> because according to this rule, your data will typically fall into the following pattern:\n",
    "\n",
    "* 68% of the data falls within one SD of the mean\n",
    "\n",
    "* 95% of the data falls within two SD's of the mean\n",
    "\n",
    "* 99.7% of the data falls within three SD's of the mean\n",
    "\n",
    "<img src=\"SD Bell Curve.jpeg\">\n",
    "\n",
    "#### Empirical Rule Example:\n",
    "\n",
    "The average weight of an American man is 175 lbs with a SD of 10 lbs. According to the Empirical Rule, we can assume: \n",
    "\n",
    "* 68% of American men are between 165 and 185 lbs (or +/- 10 lbs from the mean, or 1 SD)\n",
    "* 95% of American men are between 155 and 195 lbs (or +/- 20 lbs from the mean, or 2 SD's)\n",
    "* 99.7% of American men are between 145 and 205 lbs (or +/- 30 lbs from the mean, or 3 SD's)\n",
    "* Typically, data values that fall outside of this range are considered outliers\n",
    "_______________________ \n",
    "A <font color=salmon><b>z-score</b></font>, also known as a standard score, measures the distance of a value from the mean. In other words, the z-score tells you how many SD's a given value is from the mean. Values that fall above the mean will have a positive (+) z-score, while values that fall below the mean will have a negative (-) z-score. Values that are far from the mean will be considered outliers. You can define a value as an outlier if the z-score greater than +/- 3. \n",
    "_______________________ \n",
    "\n",
    "#### Steps for Detecting and Removing Outliers with z-scores\n",
    "* Import the scipy library to make use of the z-score function\n",
    "* Calculate the z-score for each value within a specific column in your dataset\n",
    "* Transform the z-score to the absolute value of the z-score (number without the +/- sign; this will make our code simpler)\n",
    "* Add the z-scores to your dataset as a new column\n",
    "* Remove all rows that have a z-score greater than 3"
   ]
  },
  {
   "cell_type": "code",
   "execution_count": 44,
   "id": "c44567cf",
   "metadata": {},
   "outputs": [
    {
     "name": "stdout",
     "output_type": "stream",
     "text": [
      "(30, 10)\n"
     ]
    }
   ],
   "source": [
    "## Create a copy of your dataset to filter outliers\n",
    "dfz = df.copy()\n",
    "\n",
    "## Check original shape of the dataset\n",
    "print(dfz.shape)"
   ]
  },
  {
   "cell_type": "code",
   "execution_count": 45,
   "id": "61292858",
   "metadata": {},
   "outputs": [
    {
     "data": {
      "text/html": [
       "<div>\n",
       "<style scoped>\n",
       "    .dataframe tbody tr th:only-of-type {\n",
       "        vertical-align: middle;\n",
       "    }\n",
       "\n",
       "    .dataframe tbody tr th {\n",
       "        vertical-align: top;\n",
       "    }\n",
       "\n",
       "    .dataframe thead th {\n",
       "        text-align: right;\n",
       "    }\n",
       "</style>\n",
       "<table border=\"1\" class=\"dataframe\">\n",
       "  <thead>\n",
       "    <tr style=\"text-align: right;\">\n",
       "      <th></th>\n",
       "      <th>Employee</th>\n",
       "      <th>YearsExperience</th>\n",
       "      <th>Salary</th>\n",
       "      <th>Age</th>\n",
       "      <th>Gender</th>\n",
       "      <th>RemoteStatus</th>\n",
       "      <th>Region</th>\n",
       "      <th>CompanyCar</th>\n",
       "      <th>Shift</th>\n",
       "      <th>PerformanceReviewScore</th>\n",
       "      <th>zscore_salary</th>\n",
       "    </tr>\n",
       "  </thead>\n",
       "  <tbody>\n",
       "    <tr>\n",
       "      <th>0</th>\n",
       "      <td>Richard</td>\n",
       "      <td>5.1</td>\n",
       "      <td>66029</td>\n",
       "      <td>41</td>\n",
       "      <td>Female</td>\n",
       "      <td>0</td>\n",
       "      <td>Central</td>\n",
       "      <td>Y</td>\n",
       "      <td>2</td>\n",
       "      <td>98.3</td>\n",
       "      <td>0.269844</td>\n",
       "    </tr>\n",
       "    <tr>\n",
       "      <th>1</th>\n",
       "      <td>Nick</td>\n",
       "      <td>5.9</td>\n",
       "      <td>8136300</td>\n",
       "      <td>39</td>\n",
       "      <td>Female</td>\n",
       "      <td>0</td>\n",
       "      <td>Central</td>\n",
       "      <td>Y</td>\n",
       "      <td>3</td>\n",
       "      <td>105.7</td>\n",
       "      <td>3.343557</td>\n",
       "    </tr>\n",
       "    <tr>\n",
       "      <th>2</th>\n",
       "      <td>Morgan</td>\n",
       "      <td>9.5</td>\n",
       "      <td>116969</td>\n",
       "      <td>50</td>\n",
       "      <td>Female</td>\n",
       "      <td>1</td>\n",
       "      <td>Central</td>\n",
       "      <td>N</td>\n",
       "      <td>1</td>\n",
       "      <td>145.0</td>\n",
       "      <td>0.247036</td>\n",
       "    </tr>\n",
       "    <tr>\n",
       "      <th>3</th>\n",
       "      <td>Susan</td>\n",
       "      <td>3.2</td>\n",
       "      <td>64445</td>\n",
       "      <td>27</td>\n",
       "      <td>Male</td>\n",
       "      <td>0</td>\n",
       "      <td>Central</td>\n",
       "      <td>Y</td>\n",
       "      <td>3</td>\n",
       "      <td>75.1</td>\n",
       "      <td>0.270553</td>\n",
       "    </tr>\n",
       "    <tr>\n",
       "      <th>4</th>\n",
       "      <td>Matthew</td>\n",
       "      <td>8.2</td>\n",
       "      <td>113812</td>\n",
       "      <td>47</td>\n",
       "      <td>Female</td>\n",
       "      <td>1</td>\n",
       "      <td>Central</td>\n",
       "      <td>N</td>\n",
       "      <td>2</td>\n",
       "      <td>131.1</td>\n",
       "      <td>0.248449</td>\n",
       "    </tr>\n",
       "  </tbody>\n",
       "</table>\n",
       "</div>"
      ],
      "text/plain": [
       "  Employee  YearsExperience   Salary  Age  Gender  RemoteStatus   Region  \\\n",
       "0  Richard              5.1    66029   41  Female             0  Central   \n",
       "1     Nick              5.9  8136300   39  Female             0  Central   \n",
       "2   Morgan              9.5   116969   50  Female             1  Central   \n",
       "3    Susan              3.2    64445   27    Male             0  Central   \n",
       "4  Matthew              8.2   113812   47  Female             1  Central   \n",
       "\n",
       "  CompanyCar  Shift  PerformanceReviewScore  zscore_salary  \n",
       "0          Y      2                    98.3       0.269844  \n",
       "1          Y      3                   105.7       3.343557  \n",
       "2          N      1                   145.0       0.247036  \n",
       "3          Y      3                    75.1       0.270553  \n",
       "4          N      2                   131.1       0.248449  "
      ]
     },
     "execution_count": 45,
     "metadata": {},
     "output_type": "execute_result"
    }
   ],
   "source": [
    "## Create a new column to contain the z-scores for the employee salary\n",
    "## Set the new column equal to the absolute value of the z-scores\n",
    "## To calculate z-score -- stats.zscore(data/column name)\n",
    "## To determine absolute value of z-score -- np.abs(data/function/options)\n",
    "\n",
    "dfz[\"zscore_salary\"] = np.abs(stats.zscore(dfz[\"Salary\"]))\n",
    "\n",
    "## Preview new column; optional\n",
    "dfz.head()"
   ]
  },
  {
   "cell_type": "code",
   "execution_count": 81,
   "id": "e61532ef",
   "metadata": {},
   "outputs": [
    {
     "name": "stdout",
     "output_type": "stream",
     "text": [
      "Int64Index([1, 28], dtype='int64')\n"
     ]
    }
   ],
   "source": [
    "## Determine the index locations for the rows with zscores that are greater than \"3\"\n",
    "z_outliers = dfz.loc[dfz[\"zscore_salary\"] > 3].index\n",
    "\n",
    "## Preview list of index values\n",
    "print(z_outliers)"
   ]
  },
  {
   "cell_type": "code",
   "execution_count": 82,
   "id": "0efe5df5",
   "metadata": {},
   "outputs": [
    {
     "data": {
      "text/html": [
       "<div>\n",
       "<style scoped>\n",
       "    .dataframe tbody tr th:only-of-type {\n",
       "        vertical-align: middle;\n",
       "    }\n",
       "\n",
       "    .dataframe tbody tr th {\n",
       "        vertical-align: top;\n",
       "    }\n",
       "\n",
       "    .dataframe thead th {\n",
       "        text-align: right;\n",
       "    }\n",
       "</style>\n",
       "<table border=\"1\" class=\"dataframe\">\n",
       "  <thead>\n",
       "    <tr style=\"text-align: right;\">\n",
       "      <th></th>\n",
       "      <th>Employee</th>\n",
       "      <th>YearsExperience</th>\n",
       "      <th>Salary</th>\n",
       "      <th>Age</th>\n",
       "      <th>Gender</th>\n",
       "      <th>RemoteStatus</th>\n",
       "      <th>Region</th>\n",
       "      <th>CompanyCar</th>\n",
       "      <th>Shift</th>\n",
       "      <th>PerformanceReviewScore</th>\n",
       "      <th>zscore_salary</th>\n",
       "    </tr>\n",
       "  </thead>\n",
       "  <tbody>\n",
       "    <tr>\n",
       "      <th>1</th>\n",
       "      <td>Nick</td>\n",
       "      <td>5.9</td>\n",
       "      <td>8136300</td>\n",
       "      <td>39</td>\n",
       "      <td>Female</td>\n",
       "      <td>0</td>\n",
       "      <td>Central</td>\n",
       "      <td>Y</td>\n",
       "      <td>3</td>\n",
       "      <td>105.7</td>\n",
       "      <td>3.343557</td>\n",
       "    </tr>\n",
       "    <tr>\n",
       "      <th>28</th>\n",
       "      <td>Bill</td>\n",
       "      <td>7.1</td>\n",
       "      <td>9827300</td>\n",
       "      <td>36</td>\n",
       "      <td>Female</td>\n",
       "      <td>0</td>\n",
       "      <td>East</td>\n",
       "      <td>Y</td>\n",
       "      <td>3</td>\n",
       "      <td>116.8</td>\n",
       "      <td>4.100689</td>\n",
       "    </tr>\n",
       "  </tbody>\n",
       "</table>\n",
       "</div>"
      ],
      "text/plain": [
       "   Employee  YearsExperience   Salary  Age  Gender  RemoteStatus   Region  \\\n",
       "1      Nick              5.9  8136300   39  Female             0  Central   \n",
       "28     Bill              7.1  9827300   36  Female             0     East   \n",
       "\n",
       "   CompanyCar  Shift  PerformanceReviewScore  zscore_salary  \n",
       "1           Y      3                   105.7       3.343557  \n",
       "28          Y      3                   116.8       4.100689  "
      ]
     },
     "execution_count": 82,
     "metadata": {},
     "output_type": "execute_result"
    }
   ],
   "source": [
    "## What information can we find at these index locations?\n",
    "\n",
    "dfz.iloc[[1, 28]]"
   ]
  },
  {
   "cell_type": "code",
   "execution_count": 83,
   "id": "7e5df5c5",
   "metadata": {},
   "outputs": [
    {
     "name": "stdout",
     "output_type": "stream",
     "text": [
      "(28, 11)\n"
     ]
    }
   ],
   "source": [
    "## Drop rows with above index values\n",
    "dfz = dfz.drop(z_outliers)\n",
    "\n",
    "## Re-check the shape of the dataframe, how many rows were dropped?\n",
    "print(dfz.shape)"
   ]
  },
  {
   "cell_type": "markdown",
   "id": "93017c0c",
   "metadata": {},
   "source": [
    "## Method 2 : Using the Interquartile Range (IQR) to detect and remove outliers\n",
    "\n",
    "The <font color=salmon><b>Interquartile Range (IQR)</b></font> is the difference between the first and third quartile in a set of data. The IQR can be considered where the bulk of the data values rest. IQR is calculated by the following equation: <B>IQR = Q3 - Q1</B>\n",
    "<img src=\"IQR.png\">\n",
    "_____________________\n",
    "\n",
    "The IQR can be used to create \"fences\" or cut-off values that determine which values fall outside of the acceptable data range. For example, we can calculate a lower-limit -- all values falling below this limit will be considered an outlier. The <b>1.5 Rule</b> is a commonly used method for determining the upper and lower cut-off limits. According to this rule, a value is considered an outlier if it falls:\n",
    "\n",
    "* ... below Q1 - (1.5 x IQR)\n",
    "\n",
    "* ... above Q3 + (1.5 x IQR)\n",
    "_____________________\n",
    "\n",
    "#### 1.5 Rule Example:\n",
    "\n",
    "A professor is tracking the number of absences for each of their students. They have compiled a list of the number of absences: \n",
    "\n",
    "    1, 3, [4], 6, 7, [7], 8, 8, [9], 22, 37 \n",
    "\n",
    "In this list of data, we can find the following values:\n",
    "\n",
    "* Q1 = 4\n",
    "* Q2 (median) = 7\n",
    "* Q3 = 9\n",
    "\n",
    "With these values, you can easily calculate the IQR:\n",
    "\n",
    "* <B>IQR</B> = Q3(9) - Q1(4)\n",
    "* <B>IQR</B> = 5\n",
    "\n",
    "Once you have the IQR, you can calculate the upper and lower limits for detecting outliers:\n",
    "\n",
    "* Upper Limit = Q3(9) + [1.5 * IQR(5)] = <b> 16.5 </b>\n",
    "* Lower Limit = Q1(4) - [1.5 * IQR(5)] = <b> -3.5 </b>\n",
    "\n",
    "Values that fall above the upper limit are outliers; values that fall below the lower limit are outliers\n",
    "_______________________ \n",
    "\n",
    "#### Steps for Detecting and Removing Outliers with IQR\n",
    "\n",
    "* Calculate quartiles\n",
    "* Calculate IQR\n",
    "* Determine upper and lower limits\n",
    "* Drop values less than the lower and/or greater than the upper"
   ]
  },
  {
   "cell_type": "code",
   "execution_count": 84,
   "id": "8694f11b",
   "metadata": {},
   "outputs": [
    {
     "data": {
      "text/plain": [
       "(30, 10)"
      ]
     },
     "execution_count": 84,
     "metadata": {},
     "output_type": "execute_result"
    }
   ],
   "source": [
    "## Create a copy of original dataset\n",
    "dfq = df.copy()\n",
    "\n",
    "## Check original shape of the dataset\n",
    "dfq.shape"
   ]
  },
  {
   "cell_type": "code",
   "execution_count": 85,
   "id": "e84c2fe4",
   "metadata": {},
   "outputs": [
    {
     "name": "stdout",
     "output_type": "stream",
     "text": [
      "Q1: 48265.0\n",
      "Q3: 104512.0\n"
     ]
    }
   ],
   "source": [
    "## Calculate quartiles\n",
    "q1 = dfq[\"Salary\"].quantile(.25)\n",
    "q3 = dfq[\"Salary\"].quantile(.75)\n",
    "\n",
    "print(\"Q1:\", q1)\n",
    "print(\"Q3:\", q3)"
   ]
  },
  {
   "cell_type": "code",
   "execution_count": 86,
   "id": "9b36fb73",
   "metadata": {},
   "outputs": [
    {
     "name": "stdout",
     "output_type": "stream",
     "text": [
      "IQR: 56247.0\n"
     ]
    }
   ],
   "source": [
    "## Calculate the IQR\n",
    "iqr = q3 - q1\n",
    "\n",
    "print(\"IQR:\", iqr)"
   ]
  },
  {
   "cell_type": "code",
   "execution_count": 87,
   "id": "50fabd5f",
   "metadata": {},
   "outputs": [
    {
     "name": "stdout",
     "output_type": "stream",
     "text": [
      "Upper Limit: 188882.5\n",
      "Lower Limit: -36105.5\n"
     ]
    }
   ],
   "source": [
    "## Determine outlier fences \n",
    "top = q3 + (iqr * 1.5)\n",
    "bottom = q1 - (iqr * 1.5)\n",
    "\n",
    "\n",
    "print(\"Upper Limit:\", top)\n",
    "print(\"Lower Limit:\", bottom)"
   ]
  },
  {
   "cell_type": "code",
   "execution_count": 88,
   "id": "3040926b",
   "metadata": {},
   "outputs": [
    {
     "name": "stdout",
     "output_type": "stream",
     "text": [
      "INDEX VALUES: Int64Index([1, 12, 28], dtype='int64')\n"
     ]
    }
   ],
   "source": [
    "## Determine the index locations for rows that fall outside of outlier fences\n",
    "\n",
    "iqr_outliers = dfq.loc[(dfq['Salary'] > top) | (dfq['Salary'] < bottom)].index\n",
    "\n",
    "print(\"INDEX VALUES:\", iqr_outliers)"
   ]
  },
  {
   "cell_type": "code",
   "execution_count": 89,
   "id": "49d819df",
   "metadata": {},
   "outputs": [
    {
     "data": {
      "text/html": [
       "<div>\n",
       "<style scoped>\n",
       "    .dataframe tbody tr th:only-of-type {\n",
       "        vertical-align: middle;\n",
       "    }\n",
       "\n",
       "    .dataframe tbody tr th {\n",
       "        vertical-align: top;\n",
       "    }\n",
       "\n",
       "    .dataframe thead th {\n",
       "        text-align: right;\n",
       "    }\n",
       "</style>\n",
       "<table border=\"1\" class=\"dataframe\">\n",
       "  <thead>\n",
       "    <tr style=\"text-align: right;\">\n",
       "      <th></th>\n",
       "      <th>Employee</th>\n",
       "      <th>YearsExperience</th>\n",
       "      <th>Salary</th>\n",
       "      <th>Age</th>\n",
       "      <th>Gender</th>\n",
       "      <th>RemoteStatus</th>\n",
       "      <th>Region</th>\n",
       "      <th>CompanyCar</th>\n",
       "      <th>Shift</th>\n",
       "      <th>PerformanceReviewScore</th>\n",
       "    </tr>\n",
       "  </thead>\n",
       "  <tbody>\n",
       "    <tr>\n",
       "      <th>1</th>\n",
       "      <td>Nick</td>\n",
       "      <td>5.9</td>\n",
       "      <td>8136300</td>\n",
       "      <td>39</td>\n",
       "      <td>Female</td>\n",
       "      <td>0</td>\n",
       "      <td>Central</td>\n",
       "      <td>Y</td>\n",
       "      <td>3</td>\n",
       "      <td>105.7</td>\n",
       "    </tr>\n",
       "    <tr>\n",
       "      <th>12</th>\n",
       "      <td>Thomas</td>\n",
       "      <td>1.5</td>\n",
       "      <td>377310</td>\n",
       "      <td>46</td>\n",
       "      <td>Male</td>\n",
       "      <td>1</td>\n",
       "      <td>Central</td>\n",
       "      <td>Y</td>\n",
       "      <td>1</td>\n",
       "      <td>63.8</td>\n",
       "    </tr>\n",
       "    <tr>\n",
       "      <th>28</th>\n",
       "      <td>Bill</td>\n",
       "      <td>7.1</td>\n",
       "      <td>9827300</td>\n",
       "      <td>36</td>\n",
       "      <td>Female</td>\n",
       "      <td>0</td>\n",
       "      <td>East</td>\n",
       "      <td>Y</td>\n",
       "      <td>3</td>\n",
       "      <td>116.8</td>\n",
       "    </tr>\n",
       "  </tbody>\n",
       "</table>\n",
       "</div>"
      ],
      "text/plain": [
       "   Employee  YearsExperience   Salary  Age  Gender  RemoteStatus   Region  \\\n",
       "1      Nick              5.9  8136300   39  Female             0  Central   \n",
       "12   Thomas              1.5   377310   46    Male             1  Central   \n",
       "28     Bill              7.1  9827300   36  Female             0     East   \n",
       "\n",
       "   CompanyCar  Shift  PerformanceReviewScore  \n",
       "1           Y      3                   105.7  \n",
       "12          Y      1                    63.8  \n",
       "28          Y      3                   116.8  "
      ]
     },
     "execution_count": 89,
     "metadata": {},
     "output_type": "execute_result"
    }
   ],
   "source": [
    "## what values can we find at these index locations?\n",
    "\n",
    "dfq.iloc[[1, 12, 28]]"
   ]
  },
  {
   "cell_type": "code",
   "execution_count": 90,
   "id": "23df0d4a",
   "metadata": {},
   "outputs": [
    {
     "name": "stdout",
     "output_type": "stream",
     "text": [
      "(27, 10)\n"
     ]
    }
   ],
   "source": [
    "## Drop rows with above index values\n",
    "dfq = dfq.drop(iqr_outliers)\n",
    "\n",
    "## Re-check the shape of the dataframe, how many rows were dropped?\n",
    "print(dfq.shape)"
   ]
  },
  {
   "cell_type": "markdown",
   "id": "6e148156",
   "metadata": {},
   "source": [
    "# { Module 10 Homework }"
   ]
  },
  {
   "cell_type": "markdown",
   "id": "736faa7d",
   "metadata": {},
   "source": [
    "1. Import the \"babies.xlsx\" dataset. See below for information on the columns:\n",
    "\n",
    "    * bwt - birth weight of newborn baby\n",
    "    * gestation\t- gestation length (weeks)\n",
    "    * parity - previously pregnant (0 = no; 1 = yes)\n",
    "    * age - age of mother\n",
    "    * height - height of mother (inches)\t\n",
    "    * weight - weight of mother (pounds)\n",
    "    * smoke - smoking status of mother (0 = nonsmoker; 1 = smoker)"
   ]
  },
  {
   "cell_type": "code",
   "execution_count": 38,
   "id": "ac6ef2f4",
   "metadata": {},
   "outputs": [
    {
     "data": {
      "text/html": [
       "<div>\n",
       "<style scoped>\n",
       "    .dataframe tbody tr th:only-of-type {\n",
       "        vertical-align: middle;\n",
       "    }\n",
       "\n",
       "    .dataframe tbody tr th {\n",
       "        vertical-align: top;\n",
       "    }\n",
       "\n",
       "    .dataframe thead th {\n",
       "        text-align: right;\n",
       "    }\n",
       "</style>\n",
       "<table border=\"1\" class=\"dataframe\">\n",
       "  <thead>\n",
       "    <tr style=\"text-align: right;\">\n",
       "      <th></th>\n",
       "      <th>bwt</th>\n",
       "      <th>gestation</th>\n",
       "      <th>parity</th>\n",
       "      <th>age</th>\n",
       "      <th>height</th>\n",
       "      <th>weight</th>\n",
       "      <th>smoke</th>\n",
       "    </tr>\n",
       "  </thead>\n",
       "  <tbody>\n",
       "    <tr>\n",
       "      <th>0</th>\n",
       "      <td>120</td>\n",
       "      <td>284.0</td>\n",
       "      <td>0</td>\n",
       "      <td>27.0</td>\n",
       "      <td>62.0</td>\n",
       "      <td>100.0</td>\n",
       "      <td>0.0</td>\n",
       "    </tr>\n",
       "    <tr>\n",
       "      <th>1</th>\n",
       "      <td>113</td>\n",
       "      <td>282.0</td>\n",
       "      <td>0</td>\n",
       "      <td>33.0</td>\n",
       "      <td>64.0</td>\n",
       "      <td>135.0</td>\n",
       "      <td>0.0</td>\n",
       "    </tr>\n",
       "    <tr>\n",
       "      <th>2</th>\n",
       "      <td>128</td>\n",
       "      <td>279.0</td>\n",
       "      <td>0</td>\n",
       "      <td>28.0</td>\n",
       "      <td>64.0</td>\n",
       "      <td>77.0</td>\n",
       "      <td>1.0</td>\n",
       "    </tr>\n",
       "    <tr>\n",
       "      <th>3</th>\n",
       "      <td>123</td>\n",
       "      <td>NaN</td>\n",
       "      <td>0</td>\n",
       "      <td>36.0</td>\n",
       "      <td>69.0</td>\n",
       "      <td>190.0</td>\n",
       "      <td>0.0</td>\n",
       "    </tr>\n",
       "    <tr>\n",
       "      <th>4</th>\n",
       "      <td>108</td>\n",
       "      <td>282.0</td>\n",
       "      <td>0</td>\n",
       "      <td>23.0</td>\n",
       "      <td>67.0</td>\n",
       "      <td>125.0</td>\n",
       "      <td>1.0</td>\n",
       "    </tr>\n",
       "    <tr>\n",
       "      <th>...</th>\n",
       "      <td>...</td>\n",
       "      <td>...</td>\n",
       "      <td>...</td>\n",
       "      <td>...</td>\n",
       "      <td>...</td>\n",
       "      <td>...</td>\n",
       "      <td>...</td>\n",
       "    </tr>\n",
       "    <tr>\n",
       "      <th>1231</th>\n",
       "      <td>113</td>\n",
       "      <td>275.0</td>\n",
       "      <td>1</td>\n",
       "      <td>27.0</td>\n",
       "      <td>60.0</td>\n",
       "      <td>100.0</td>\n",
       "      <td>0.0</td>\n",
       "    </tr>\n",
       "    <tr>\n",
       "      <th>1232</th>\n",
       "      <td>128</td>\n",
       "      <td>265.0</td>\n",
       "      <td>0</td>\n",
       "      <td>24.0</td>\n",
       "      <td>67.0</td>\n",
       "      <td>120.0</td>\n",
       "      <td>0.0</td>\n",
       "    </tr>\n",
       "    <tr>\n",
       "      <th>1233</th>\n",
       "      <td>130</td>\n",
       "      <td>291.0</td>\n",
       "      <td>0</td>\n",
       "      <td>30.0</td>\n",
       "      <td>65.0</td>\n",
       "      <td>67.0</td>\n",
       "      <td>1.0</td>\n",
       "    </tr>\n",
       "    <tr>\n",
       "      <th>1234</th>\n",
       "      <td>125</td>\n",
       "      <td>281.0</td>\n",
       "      <td>1</td>\n",
       "      <td>21.0</td>\n",
       "      <td>65.0</td>\n",
       "      <td>110.0</td>\n",
       "      <td>0.0</td>\n",
       "    </tr>\n",
       "    <tr>\n",
       "      <th>1235</th>\n",
       "      <td>117</td>\n",
       "      <td>297.0</td>\n",
       "      <td>0</td>\n",
       "      <td>38.0</td>\n",
       "      <td>65.0</td>\n",
       "      <td>129.0</td>\n",
       "      <td>0.0</td>\n",
       "    </tr>\n",
       "  </tbody>\n",
       "</table>\n",
       "<p>1236 rows × 7 columns</p>\n",
       "</div>"
      ],
      "text/plain": [
       "      bwt  gestation  parity   age  height  weight  smoke\n",
       "0     120      284.0       0  27.0    62.0   100.0    0.0\n",
       "1     113      282.0       0  33.0    64.0   135.0    0.0\n",
       "2     128      279.0       0  28.0    64.0    77.0    1.0\n",
       "3     123        NaN       0  36.0    69.0   190.0    0.0\n",
       "4     108      282.0       0  23.0    67.0   125.0    1.0\n",
       "...   ...        ...     ...   ...     ...     ...    ...\n",
       "1231  113      275.0       1  27.0    60.0   100.0    0.0\n",
       "1232  128      265.0       0  24.0    67.0   120.0    0.0\n",
       "1233  130      291.0       0  30.0    65.0    67.0    1.0\n",
       "1234  125      281.0       1  21.0    65.0   110.0    0.0\n",
       "1235  117      297.0       0  38.0    65.0   129.0    0.0\n",
       "\n",
       "[1236 rows x 7 columns]"
      ]
     },
     "execution_count": 38,
     "metadata": {},
     "output_type": "execute_result"
    }
   ],
   "source": [
    "import pandas as pd\n",
    "import numpy as np\n",
    "import scipy.stats as stats\n",
    "df=pd.read_excel('babies.xlsx')\n",
    "df"
   ]
  },
  {
   "cell_type": "markdown",
   "id": "e04bfa22",
   "metadata": {},
   "source": [
    "2. Preview the first few rows of the dataset. Complete the following checks for your dataset:\n",
    "\n",
    "    * output the summary information for the dataset, what types of variables make up this dataset?\n",
    "    * is there any missing data in this dataset?"
   ]
  },
  {
   "cell_type": "code",
   "execution_count": 210,
   "id": "d86263ee",
   "metadata": {},
   "outputs": [
    {
     "data": {
      "text/html": [
       "<div>\n",
       "<style scoped>\n",
       "    .dataframe tbody tr th:only-of-type {\n",
       "        vertical-align: middle;\n",
       "    }\n",
       "\n",
       "    .dataframe tbody tr th {\n",
       "        vertical-align: top;\n",
       "    }\n",
       "\n",
       "    .dataframe thead th {\n",
       "        text-align: right;\n",
       "    }\n",
       "</style>\n",
       "<table border=\"1\" class=\"dataframe\">\n",
       "  <thead>\n",
       "    <tr style=\"text-align: right;\">\n",
       "      <th></th>\n",
       "      <th>bwt</th>\n",
       "      <th>gestation</th>\n",
       "      <th>parity</th>\n",
       "      <th>age</th>\n",
       "      <th>height</th>\n",
       "      <th>weight</th>\n",
       "      <th>smoke</th>\n",
       "    </tr>\n",
       "  </thead>\n",
       "  <tbody>\n",
       "    <tr>\n",
       "      <th>0</th>\n",
       "      <td>120</td>\n",
       "      <td>284.0</td>\n",
       "      <td>0</td>\n",
       "      <td>27.0</td>\n",
       "      <td>62.0</td>\n",
       "      <td>100.0</td>\n",
       "      <td>0.0</td>\n",
       "    </tr>\n",
       "    <tr>\n",
       "      <th>1</th>\n",
       "      <td>113</td>\n",
       "      <td>282.0</td>\n",
       "      <td>0</td>\n",
       "      <td>33.0</td>\n",
       "      <td>64.0</td>\n",
       "      <td>135.0</td>\n",
       "      <td>0.0</td>\n",
       "    </tr>\n",
       "    <tr>\n",
       "      <th>2</th>\n",
       "      <td>128</td>\n",
       "      <td>279.0</td>\n",
       "      <td>0</td>\n",
       "      <td>28.0</td>\n",
       "      <td>64.0</td>\n",
       "      <td>77.0</td>\n",
       "      <td>1.0</td>\n",
       "    </tr>\n",
       "    <tr>\n",
       "      <th>3</th>\n",
       "      <td>123</td>\n",
       "      <td>NaN</td>\n",
       "      <td>0</td>\n",
       "      <td>36.0</td>\n",
       "      <td>69.0</td>\n",
       "      <td>190.0</td>\n",
       "      <td>0.0</td>\n",
       "    </tr>\n",
       "    <tr>\n",
       "      <th>4</th>\n",
       "      <td>108</td>\n",
       "      <td>282.0</td>\n",
       "      <td>0</td>\n",
       "      <td>23.0</td>\n",
       "      <td>67.0</td>\n",
       "      <td>125.0</td>\n",
       "      <td>1.0</td>\n",
       "    </tr>\n",
       "  </tbody>\n",
       "</table>\n",
       "</div>"
      ],
      "text/plain": [
       "   bwt  gestation  parity   age  height  weight  smoke\n",
       "0  120      284.0       0  27.0    62.0   100.0    0.0\n",
       "1  113      282.0       0  33.0    64.0   135.0    0.0\n",
       "2  128      279.0       0  28.0    64.0    77.0    1.0\n",
       "3  123        NaN       0  36.0    69.0   190.0    0.0\n",
       "4  108      282.0       0  23.0    67.0   125.0    1.0"
      ]
     },
     "execution_count": 210,
     "metadata": {},
     "output_type": "execute_result"
    }
   ],
   "source": [
    "df.head()"
   ]
  },
  {
   "cell_type": "code",
   "execution_count": 211,
   "id": "f70fea2d",
   "metadata": {},
   "outputs": [
    {
     "name": "stdout",
     "output_type": "stream",
     "text": [
      "<class 'pandas.core.frame.DataFrame'>\n",
      "RangeIndex: 1236 entries, 0 to 1235\n",
      "Data columns (total 7 columns):\n",
      " #   Column     Non-Null Count  Dtype  \n",
      "---  ------     --------------  -----  \n",
      " 0   bwt        1236 non-null   int64  \n",
      " 1   gestation  1223 non-null   float64\n",
      " 2   parity     1236 non-null   int64  \n",
      " 3   age        1234 non-null   float64\n",
      " 4   height     1214 non-null   float64\n",
      " 5   weight     1200 non-null   float64\n",
      " 6   smoke      1226 non-null   float64\n",
      "dtypes: float64(5), int64(2)\n",
      "memory usage: 67.7 KB\n"
     ]
    }
   ],
   "source": [
    "df.info()"
   ]
  },
  {
   "cell_type": "code",
   "execution_count": 212,
   "id": "6b483ea4",
   "metadata": {},
   "outputs": [],
   "source": [
    "# the numerical variables make up the dataset"
   ]
  },
  {
   "cell_type": "code",
   "execution_count": 213,
   "id": "c1740086",
   "metadata": {},
   "outputs": [
    {
     "data": {
      "text/plain": [
       "bwt           0\n",
       "gestation    13\n",
       "parity        0\n",
       "age           2\n",
       "height       22\n",
       "weight       36\n",
       "smoke        10\n",
       "dtype: int64"
      ]
     },
     "execution_count": 213,
     "metadata": {},
     "output_type": "execute_result"
    }
   ],
   "source": [
    "df.isnull().sum()"
   ]
  },
  {
   "cell_type": "code",
   "execution_count": 214,
   "id": "08e78ae7",
   "metadata": {},
   "outputs": [],
   "source": [
    "# Yes, there is  a missing data, the above numbers indicate the missing data."
   ]
  },
  {
   "cell_type": "markdown",
   "id": "f2a9f160",
   "metadata": {},
   "source": [
    "3. Handle the missing data in the dataset -- there isn't much, so we can drop all the rows that have at least one missing value. How many rows were dropped from the dataset?"
   ]
  },
  {
   "cell_type": "code",
   "execution_count": 215,
   "id": "9b362c54",
   "metadata": {},
   "outputs": [
    {
     "data": {
      "text/plain": [
       "(1236, 7)"
      ]
     },
     "execution_count": 215,
     "metadata": {},
     "output_type": "execute_result"
    }
   ],
   "source": [
    "# the shape of the dataset before missing value dropped\n",
    "\n",
    "df.shape"
   ]
  },
  {
   "cell_type": "code",
   "execution_count": 216,
   "id": "ce911bb4",
   "metadata": {},
   "outputs": [],
   "source": [
    "df.dropna( inplace = True)"
   ]
  },
  {
   "cell_type": "code",
   "execution_count": 217,
   "id": "febef078",
   "metadata": {},
   "outputs": [
    {
     "data": {
      "text/html": [
       "<div>\n",
       "<style scoped>\n",
       "    .dataframe tbody tr th:only-of-type {\n",
       "        vertical-align: middle;\n",
       "    }\n",
       "\n",
       "    .dataframe tbody tr th {\n",
       "        vertical-align: top;\n",
       "    }\n",
       "\n",
       "    .dataframe thead th {\n",
       "        text-align: right;\n",
       "    }\n",
       "</style>\n",
       "<table border=\"1\" class=\"dataframe\">\n",
       "  <thead>\n",
       "    <tr style=\"text-align: right;\">\n",
       "      <th></th>\n",
       "      <th>bwt</th>\n",
       "      <th>gestation</th>\n",
       "      <th>parity</th>\n",
       "      <th>age</th>\n",
       "      <th>height</th>\n",
       "      <th>weight</th>\n",
       "      <th>smoke</th>\n",
       "    </tr>\n",
       "  </thead>\n",
       "  <tbody>\n",
       "    <tr>\n",
       "      <th>0</th>\n",
       "      <td>120</td>\n",
       "      <td>284.0</td>\n",
       "      <td>0</td>\n",
       "      <td>27.0</td>\n",
       "      <td>62.0</td>\n",
       "      <td>100.0</td>\n",
       "      <td>0.0</td>\n",
       "    </tr>\n",
       "    <tr>\n",
       "      <th>1</th>\n",
       "      <td>113</td>\n",
       "      <td>282.0</td>\n",
       "      <td>0</td>\n",
       "      <td>33.0</td>\n",
       "      <td>64.0</td>\n",
       "      <td>135.0</td>\n",
       "      <td>0.0</td>\n",
       "    </tr>\n",
       "    <tr>\n",
       "      <th>2</th>\n",
       "      <td>128</td>\n",
       "      <td>279.0</td>\n",
       "      <td>0</td>\n",
       "      <td>28.0</td>\n",
       "      <td>64.0</td>\n",
       "      <td>77.0</td>\n",
       "      <td>1.0</td>\n",
       "    </tr>\n",
       "    <tr>\n",
       "      <th>4</th>\n",
       "      <td>108</td>\n",
       "      <td>282.0</td>\n",
       "      <td>0</td>\n",
       "      <td>23.0</td>\n",
       "      <td>67.0</td>\n",
       "      <td>125.0</td>\n",
       "      <td>1.0</td>\n",
       "    </tr>\n",
       "    <tr>\n",
       "      <th>5</th>\n",
       "      <td>136</td>\n",
       "      <td>286.0</td>\n",
       "      <td>0</td>\n",
       "      <td>25.0</td>\n",
       "      <td>62.0</td>\n",
       "      <td>93.0</td>\n",
       "      <td>0.0</td>\n",
       "    </tr>\n",
       "  </tbody>\n",
       "</table>\n",
       "</div>"
      ],
      "text/plain": [
       "   bwt  gestation  parity   age  height  weight  smoke\n",
       "0  120      284.0       0  27.0    62.0   100.0    0.0\n",
       "1  113      282.0       0  33.0    64.0   135.0    0.0\n",
       "2  128      279.0       0  28.0    64.0    77.0    1.0\n",
       "4  108      282.0       0  23.0    67.0   125.0    1.0\n",
       "5  136      286.0       0  25.0    62.0    93.0    0.0"
      ]
     },
     "execution_count": 217,
     "metadata": {},
     "output_type": "execute_result"
    }
   ],
   "source": [
    "df.head()"
   ]
  },
  {
   "cell_type": "code",
   "execution_count": 218,
   "id": "71e91063",
   "metadata": {},
   "outputs": [
    {
     "data": {
      "text/plain": [
       "(1174, 7)"
      ]
     },
     "execution_count": 218,
     "metadata": {},
     "output_type": "execute_result"
    }
   ],
   "source": [
    "# the shape of the dataset after missing value dropped\n",
    "\n",
    "df.shape\n"
   ]
  },
  {
   "cell_type": "code",
   "execution_count": 219,
   "id": "4c62c86a",
   "metadata": {},
   "outputs": [
    {
     "name": "stdout",
     "output_type": "stream",
     "text": [
      "62\n"
     ]
    }
   ],
   "source": [
    "print(1236-1174)"
   ]
  },
  {
   "cell_type": "code",
   "execution_count": 220,
   "id": "3664dd0c",
   "metadata": {},
   "outputs": [],
   "source": [
    "# 62 rows dropped from the dataset"
   ]
  },
  {
   "cell_type": "markdown",
   "id": "562e6e31",
   "metadata": {},
   "source": [
    "4. There are two qualitative variables in this dataset. What are they? How do you know they are qualitative variables?"
   ]
  },
  {
   "cell_type": "code",
   "execution_count": 113,
   "id": "3f4a37a8",
   "metadata": {},
   "outputs": [],
   "source": [
    "# the two qualitative variables are parity and smoke \n",
    "# these values can't be measured in numeric scale"
   ]
  },
  {
   "cell_type": "markdown",
   "id": "eaee4ec8",
   "metadata": {},
   "source": [
    "5. Replace the values in the qualitative variables with meaningful labels that describe the different groups. Use any method you've learned in previous modules to complete this task. "
   ]
  },
  {
   "cell_type": "code",
   "execution_count": 132,
   "id": "56081172",
   "metadata": {},
   "outputs": [],
   "source": [
    "df['parity'].replace([0, 1], ['N', 'Y'], inplace = True)"
   ]
  },
  {
   "cell_type": "code",
   "execution_count": 180,
   "id": "aebab0f4",
   "metadata": {},
   "outputs": [
    {
     "data": {
      "text/html": [
       "<div>\n",
       "<style scoped>\n",
       "    .dataframe tbody tr th:only-of-type {\n",
       "        vertical-align: middle;\n",
       "    }\n",
       "\n",
       "    .dataframe tbody tr th {\n",
       "        vertical-align: top;\n",
       "    }\n",
       "\n",
       "    .dataframe thead th {\n",
       "        text-align: right;\n",
       "    }\n",
       "</style>\n",
       "<table border=\"1\" class=\"dataframe\">\n",
       "  <thead>\n",
       "    <tr style=\"text-align: right;\">\n",
       "      <th></th>\n",
       "      <th>bwt</th>\n",
       "      <th>gestation</th>\n",
       "      <th>parity</th>\n",
       "      <th>age</th>\n",
       "      <th>height</th>\n",
       "      <th>weight</th>\n",
       "      <th>smoke</th>\n",
       "    </tr>\n",
       "  </thead>\n",
       "  <tbody>\n",
       "    <tr>\n",
       "      <th>0</th>\n",
       "      <td>120</td>\n",
       "      <td>284.0</td>\n",
       "      <td>0</td>\n",
       "      <td>27.0</td>\n",
       "      <td>62.0</td>\n",
       "      <td>100.0</td>\n",
       "      <td>0.0</td>\n",
       "    </tr>\n",
       "    <tr>\n",
       "      <th>1</th>\n",
       "      <td>113</td>\n",
       "      <td>282.0</td>\n",
       "      <td>0</td>\n",
       "      <td>33.0</td>\n",
       "      <td>64.0</td>\n",
       "      <td>135.0</td>\n",
       "      <td>0.0</td>\n",
       "    </tr>\n",
       "    <tr>\n",
       "      <th>2</th>\n",
       "      <td>128</td>\n",
       "      <td>279.0</td>\n",
       "      <td>0</td>\n",
       "      <td>28.0</td>\n",
       "      <td>64.0</td>\n",
       "      <td>77.0</td>\n",
       "      <td>1.0</td>\n",
       "    </tr>\n",
       "    <tr>\n",
       "      <th>3</th>\n",
       "      <td>123</td>\n",
       "      <td>NaN</td>\n",
       "      <td>0</td>\n",
       "      <td>36.0</td>\n",
       "      <td>69.0</td>\n",
       "      <td>190.0</td>\n",
       "      <td>0.0</td>\n",
       "    </tr>\n",
       "    <tr>\n",
       "      <th>4</th>\n",
       "      <td>108</td>\n",
       "      <td>282.0</td>\n",
       "      <td>0</td>\n",
       "      <td>23.0</td>\n",
       "      <td>67.0</td>\n",
       "      <td>125.0</td>\n",
       "      <td>1.0</td>\n",
       "    </tr>\n",
       "  </tbody>\n",
       "</table>\n",
       "</div>"
      ],
      "text/plain": [
       "   bwt  gestation  parity   age  height  weight  smoke\n",
       "0  120      284.0       0  27.0    62.0   100.0    0.0\n",
       "1  113      282.0       0  33.0    64.0   135.0    0.0\n",
       "2  128      279.0       0  28.0    64.0    77.0    1.0\n",
       "3  123        NaN       0  36.0    69.0   190.0    0.0\n",
       "4  108      282.0       0  23.0    67.0   125.0    1.0"
      ]
     },
     "execution_count": 180,
     "metadata": {},
     "output_type": "execute_result"
    }
   ],
   "source": [
    "df.head()"
   ]
  },
  {
   "cell_type": "markdown",
   "id": "6974eb82",
   "metadata": {},
   "source": [
    "6. Before we move forward with any statistics, let's identify and remove any outliers from the dataset. Using the IQR method, search for outliers in the 5 numeric variables. This will take some time and organization, be careful with your code! Make sure you keep track of how many rows/outliers are removed. "
   ]
  },
  {
   "cell_type": "code",
   "execution_count": 254,
   "id": "3070de25",
   "metadata": {},
   "outputs": [],
   "source": [
    "dfq= df.copy()"
   ]
  },
  {
   "cell_type": "code",
   "execution_count": 255,
   "id": "75670bdc",
   "metadata": {},
   "outputs": [
    {
     "data": {
      "text/html": [
       "<div>\n",
       "<style scoped>\n",
       "    .dataframe tbody tr th:only-of-type {\n",
       "        vertical-align: middle;\n",
       "    }\n",
       "\n",
       "    .dataframe tbody tr th {\n",
       "        vertical-align: top;\n",
       "    }\n",
       "\n",
       "    .dataframe thead th {\n",
       "        text-align: right;\n",
       "    }\n",
       "</style>\n",
       "<table border=\"1\" class=\"dataframe\">\n",
       "  <thead>\n",
       "    <tr style=\"text-align: right;\">\n",
       "      <th></th>\n",
       "      <th>bwt</th>\n",
       "      <th>gestation</th>\n",
       "      <th>parity</th>\n",
       "      <th>age</th>\n",
       "      <th>height</th>\n",
       "      <th>weight</th>\n",
       "      <th>smoke</th>\n",
       "    </tr>\n",
       "  </thead>\n",
       "  <tbody>\n",
       "    <tr>\n",
       "      <th>0</th>\n",
       "      <td>120</td>\n",
       "      <td>284.0</td>\n",
       "      <td>0</td>\n",
       "      <td>27.0</td>\n",
       "      <td>62.0</td>\n",
       "      <td>100.0</td>\n",
       "      <td>0.0</td>\n",
       "    </tr>\n",
       "    <tr>\n",
       "      <th>1</th>\n",
       "      <td>113</td>\n",
       "      <td>282.0</td>\n",
       "      <td>0</td>\n",
       "      <td>33.0</td>\n",
       "      <td>64.0</td>\n",
       "      <td>135.0</td>\n",
       "      <td>0.0</td>\n",
       "    </tr>\n",
       "    <tr>\n",
       "      <th>2</th>\n",
       "      <td>128</td>\n",
       "      <td>279.0</td>\n",
       "      <td>0</td>\n",
       "      <td>28.0</td>\n",
       "      <td>64.0</td>\n",
       "      <td>77.0</td>\n",
       "      <td>1.0</td>\n",
       "    </tr>\n",
       "    <tr>\n",
       "      <th>3</th>\n",
       "      <td>123</td>\n",
       "      <td>NaN</td>\n",
       "      <td>0</td>\n",
       "      <td>36.0</td>\n",
       "      <td>69.0</td>\n",
       "      <td>190.0</td>\n",
       "      <td>0.0</td>\n",
       "    </tr>\n",
       "    <tr>\n",
       "      <th>4</th>\n",
       "      <td>108</td>\n",
       "      <td>282.0</td>\n",
       "      <td>0</td>\n",
       "      <td>23.0</td>\n",
       "      <td>67.0</td>\n",
       "      <td>125.0</td>\n",
       "      <td>1.0</td>\n",
       "    </tr>\n",
       "    <tr>\n",
       "      <th>...</th>\n",
       "      <td>...</td>\n",
       "      <td>...</td>\n",
       "      <td>...</td>\n",
       "      <td>...</td>\n",
       "      <td>...</td>\n",
       "      <td>...</td>\n",
       "      <td>...</td>\n",
       "    </tr>\n",
       "    <tr>\n",
       "      <th>1231</th>\n",
       "      <td>113</td>\n",
       "      <td>275.0</td>\n",
       "      <td>1</td>\n",
       "      <td>27.0</td>\n",
       "      <td>60.0</td>\n",
       "      <td>100.0</td>\n",
       "      <td>0.0</td>\n",
       "    </tr>\n",
       "    <tr>\n",
       "      <th>1232</th>\n",
       "      <td>128</td>\n",
       "      <td>265.0</td>\n",
       "      <td>0</td>\n",
       "      <td>24.0</td>\n",
       "      <td>67.0</td>\n",
       "      <td>120.0</td>\n",
       "      <td>0.0</td>\n",
       "    </tr>\n",
       "    <tr>\n",
       "      <th>1233</th>\n",
       "      <td>130</td>\n",
       "      <td>291.0</td>\n",
       "      <td>0</td>\n",
       "      <td>30.0</td>\n",
       "      <td>65.0</td>\n",
       "      <td>67.0</td>\n",
       "      <td>1.0</td>\n",
       "    </tr>\n",
       "    <tr>\n",
       "      <th>1234</th>\n",
       "      <td>125</td>\n",
       "      <td>281.0</td>\n",
       "      <td>1</td>\n",
       "      <td>21.0</td>\n",
       "      <td>65.0</td>\n",
       "      <td>110.0</td>\n",
       "      <td>0.0</td>\n",
       "    </tr>\n",
       "    <tr>\n",
       "      <th>1235</th>\n",
       "      <td>117</td>\n",
       "      <td>297.0</td>\n",
       "      <td>0</td>\n",
       "      <td>38.0</td>\n",
       "      <td>65.0</td>\n",
       "      <td>129.0</td>\n",
       "      <td>0.0</td>\n",
       "    </tr>\n",
       "  </tbody>\n",
       "</table>\n",
       "<p>1236 rows × 7 columns</p>\n",
       "</div>"
      ],
      "text/plain": [
       "      bwt  gestation  parity   age  height  weight  smoke\n",
       "0     120      284.0       0  27.0    62.0   100.0    0.0\n",
       "1     113      282.0       0  33.0    64.0   135.0    0.0\n",
       "2     128      279.0       0  28.0    64.0    77.0    1.0\n",
       "3     123        NaN       0  36.0    69.0   190.0    0.0\n",
       "4     108      282.0       0  23.0    67.0   125.0    1.0\n",
       "...   ...        ...     ...   ...     ...     ...    ...\n",
       "1231  113      275.0       1  27.0    60.0   100.0    0.0\n",
       "1232  128      265.0       0  24.0    67.0   120.0    0.0\n",
       "1233  130      291.0       0  30.0    65.0    67.0    1.0\n",
       "1234  125      281.0       1  21.0    65.0   110.0    0.0\n",
       "1235  117      297.0       0  38.0    65.0   129.0    0.0\n",
       "\n",
       "[1236 rows x 7 columns]"
      ]
     },
     "execution_count": 255,
     "metadata": {},
     "output_type": "execute_result"
    }
   ],
   "source": [
    "dfq"
   ]
  },
  {
   "cell_type": "code",
   "execution_count": 224,
   "id": "44d3e3ce",
   "metadata": {},
   "outputs": [
    {
     "data": {
      "text/plain": [
       "(1236, 7)"
      ]
     },
     "execution_count": 224,
     "metadata": {},
     "output_type": "execute_result"
    }
   ],
   "source": [
    "dfq.shape"
   ]
  },
  {
   "cell_type": "code",
   "execution_count": 225,
   "id": "bb150783",
   "metadata": {},
   "outputs": [
    {
     "name": "stdout",
     "output_type": "stream",
     "text": [
      "Q1: 108.75\n",
      "Q3: 131.0\n"
     ]
    }
   ],
   "source": [
    "q1 = dfq['bwt'].quantile(.25)\n",
    "q3 = dfq['bwt'].quantile(.75)\n",
    "\n",
    "print('Q1:', q1)\n",
    "print('Q3:', q3)"
   ]
  },
  {
   "cell_type": "code",
   "execution_count": 226,
   "id": "8b666c7a",
   "metadata": {},
   "outputs": [
    {
     "name": "stdout",
     "output_type": "stream",
     "text": [
      "IQR: 22.25\n"
     ]
    }
   ],
   "source": [
    "iqr = q3- q1\n",
    "print('IQR:', iqr)"
   ]
  },
  {
   "cell_type": "code",
   "execution_count": 227,
   "id": "5888cc79",
   "metadata": {},
   "outputs": [
    {
     "name": "stdout",
     "output_type": "stream",
     "text": [
      "Upper limit: 164.375\n",
      "Lower Limit: 75.375\n"
     ]
    }
   ],
   "source": [
    "top = q3 + (iqr * 1.5)\n",
    "bottom = q1- (iqr * 1.5)\n",
    "\n",
    "print('Upper limit:', top)\n",
    "print('Lower Limit:', bottom)"
   ]
  },
  {
   "cell_type": "code",
   "execution_count": 236,
   "id": "1eaeee6f",
   "metadata": {},
   "outputs": [
    {
     "name": "stdout",
     "output_type": "stream",
     "text": [
      "Index Value: Int64Index([  59,  192,  239,  309,  361,  462,  500,  529,  556,  594,  632,\n",
      "             709,  738,  739,  747,  814,  829,  904,  912,  978, 1020, 1021,\n",
      "            1035, 1063, 1065, 1099, 1139, 1148, 1149, 1169, 1211],\n",
      "           dtype='int64')\n"
     ]
    }
   ],
   "source": [
    "# to determine outliers\n",
    "\n",
    "iqr_outliers = dfq.loc[(dfq['bwt'] > top) | (dfq['bwt'] < bottom)].index\n",
    "\n",
    "print('Index Value:', iqr_outliers)"
   ]
  },
  {
   "cell_type": "code",
   "execution_count": 237,
   "id": "d7c6a649",
   "metadata": {},
   "outputs": [
    {
     "data": {
      "text/html": [
       "<div>\n",
       "<style scoped>\n",
       "    .dataframe tbody tr th:only-of-type {\n",
       "        vertical-align: middle;\n",
       "    }\n",
       "\n",
       "    .dataframe tbody tr th {\n",
       "        vertical-align: top;\n",
       "    }\n",
       "\n",
       "    .dataframe thead th {\n",
       "        text-align: right;\n",
       "    }\n",
       "</style>\n",
       "<table border=\"1\" class=\"dataframe\">\n",
       "  <thead>\n",
       "    <tr style=\"text-align: right;\">\n",
       "      <th></th>\n",
       "      <th>bwt</th>\n",
       "      <th>gestation</th>\n",
       "      <th>parity</th>\n",
       "      <th>age</th>\n",
       "      <th>height</th>\n",
       "      <th>weight</th>\n",
       "      <th>smoke</th>\n",
       "    </tr>\n",
       "  </thead>\n",
       "  <tbody>\n",
       "    <tr>\n",
       "      <th>192</th>\n",
       "      <td>75</td>\n",
       "      <td>239.0</td>\n",
       "      <td>0</td>\n",
       "      <td>26.0</td>\n",
       "      <td>63.0</td>\n",
       "      <td>124.0</td>\n",
       "      <td>1.0</td>\n",
       "    </tr>\n",
       "    <tr>\n",
       "      <th>239</th>\n",
       "      <td>173</td>\n",
       "      <td>293.0</td>\n",
       "      <td>0</td>\n",
       "      <td>30.0</td>\n",
       "      <td>63.0</td>\n",
       "      <td>110.0</td>\n",
       "      <td>0.0</td>\n",
       "    </tr>\n",
       "    <tr>\n",
       "      <th>309</th>\n",
       "      <td>71</td>\n",
       "      <td>281.0</td>\n",
       "      <td>0</td>\n",
       "      <td>32.0</td>\n",
       "      <td>60.0</td>\n",
       "      <td>117.0</td>\n",
       "      <td>1.0</td>\n",
       "    </tr>\n",
       "    <tr>\n",
       "      <th>361</th>\n",
       "      <td>71</td>\n",
       "      <td>234.0</td>\n",
       "      <td>0</td>\n",
       "      <td>32.0</td>\n",
       "      <td>64.0</td>\n",
       "      <td>110.0</td>\n",
       "      <td>1.0</td>\n",
       "    </tr>\n",
       "    <tr>\n",
       "      <th>462</th>\n",
       "      <td>68</td>\n",
       "      <td>223.0</td>\n",
       "      <td>0</td>\n",
       "      <td>32.0</td>\n",
       "      <td>66.0</td>\n",
       "      <td>149.0</td>\n",
       "      <td>1.0</td>\n",
       "    </tr>\n",
       "    <tr>\n",
       "      <th>500</th>\n",
       "      <td>69</td>\n",
       "      <td>232.0</td>\n",
       "      <td>0</td>\n",
       "      <td>31.0</td>\n",
       "      <td>59.0</td>\n",
       "      <td>103.0</td>\n",
       "      <td>1.0</td>\n",
       "    </tr>\n",
       "    <tr>\n",
       "      <th>529</th>\n",
       "      <td>71</td>\n",
       "      <td>277.0</td>\n",
       "      <td>0</td>\n",
       "      <td>40.0</td>\n",
       "      <td>69.0</td>\n",
       "      <td>135.0</td>\n",
       "      <td>0.0</td>\n",
       "    </tr>\n",
       "    <tr>\n",
       "      <th>556</th>\n",
       "      <td>174</td>\n",
       "      <td>281.0</td>\n",
       "      <td>0</td>\n",
       "      <td>37.0</td>\n",
       "      <td>67.0</td>\n",
       "      <td>155.0</td>\n",
       "      <td>0.0</td>\n",
       "    </tr>\n",
       "    <tr>\n",
       "      <th>594</th>\n",
       "      <td>170</td>\n",
       "      <td>303.0</td>\n",
       "      <td>1</td>\n",
       "      <td>21.0</td>\n",
       "      <td>64.0</td>\n",
       "      <td>129.0</td>\n",
       "      <td>0.0</td>\n",
       "    </tr>\n",
       "    <tr>\n",
       "      <th>632</th>\n",
       "      <td>176</td>\n",
       "      <td>293.0</td>\n",
       "      <td>1</td>\n",
       "      <td>19.0</td>\n",
       "      <td>68.0</td>\n",
       "      <td>180.0</td>\n",
       "      <td>0.0</td>\n",
       "    </tr>\n",
       "    <tr>\n",
       "      <th>709</th>\n",
       "      <td>166</td>\n",
       "      <td>299.0</td>\n",
       "      <td>0</td>\n",
       "      <td>26.0</td>\n",
       "      <td>68.0</td>\n",
       "      <td>140.0</td>\n",
       "      <td>0.0</td>\n",
       "    </tr>\n",
       "    <tr>\n",
       "      <th>738</th>\n",
       "      <td>167</td>\n",
       "      <td>288.0</td>\n",
       "      <td>1</td>\n",
       "      <td>19.0</td>\n",
       "      <td>63.0</td>\n",
       "      <td>117.0</td>\n",
       "      <td>0.0</td>\n",
       "    </tr>\n",
       "    <tr>\n",
       "      <th>739</th>\n",
       "      <td>71</td>\n",
       "      <td>NaN</td>\n",
       "      <td>0</td>\n",
       "      <td>19.0</td>\n",
       "      <td>64.0</td>\n",
       "      <td>120.0</td>\n",
       "      <td>0.0</td>\n",
       "    </tr>\n",
       "    <tr>\n",
       "      <th>747</th>\n",
       "      <td>174</td>\n",
       "      <td>288.0</td>\n",
       "      <td>0</td>\n",
       "      <td>25.0</td>\n",
       "      <td>61.0</td>\n",
       "      <td>182.0</td>\n",
       "      <td>0.0</td>\n",
       "    </tr>\n",
       "    <tr>\n",
       "      <th>814</th>\n",
       "      <td>165</td>\n",
       "      <td>282.0</td>\n",
       "      <td>0</td>\n",
       "      <td>29.0</td>\n",
       "      <td>66.0</td>\n",
       "      <td>145.0</td>\n",
       "      <td>0.0</td>\n",
       "    </tr>\n",
       "    <tr>\n",
       "      <th>829</th>\n",
       "      <td>62</td>\n",
       "      <td>228.0</td>\n",
       "      <td>0</td>\n",
       "      <td>24.0</td>\n",
       "      <td>61.0</td>\n",
       "      <td>107.0</td>\n",
       "      <td>0.0</td>\n",
       "    </tr>\n",
       "    <tr>\n",
       "      <th>904</th>\n",
       "      <td>72</td>\n",
       "      <td>271.0</td>\n",
       "      <td>0</td>\n",
       "      <td>39.0</td>\n",
       "      <td>61.0</td>\n",
       "      <td>136.0</td>\n",
       "      <td>0.0</td>\n",
       "    </tr>\n",
       "    <tr>\n",
       "      <th>912</th>\n",
       "      <td>58</td>\n",
       "      <td>245.0</td>\n",
       "      <td>0</td>\n",
       "      <td>34.0</td>\n",
       "      <td>64.0</td>\n",
       "      <td>156.0</td>\n",
       "      <td>1.0</td>\n",
       "    </tr>\n",
       "    <tr>\n",
       "      <th>978</th>\n",
       "      <td>55</td>\n",
       "      <td>204.0</td>\n",
       "      <td>0</td>\n",
       "      <td>35.0</td>\n",
       "      <td>65.0</td>\n",
       "      <td>140.0</td>\n",
       "      <td>0.0</td>\n",
       "    </tr>\n",
       "    <tr>\n",
       "      <th>1020</th>\n",
       "      <td>75</td>\n",
       "      <td>247.0</td>\n",
       "      <td>0</td>\n",
       "      <td>36.0</td>\n",
       "      <td>64.0</td>\n",
       "      <td>120.0</td>\n",
       "      <td>1.0</td>\n",
       "    </tr>\n",
       "    <tr>\n",
       "      <th>1021</th>\n",
       "      <td>169</td>\n",
       "      <td>296.0</td>\n",
       "      <td>0</td>\n",
       "      <td>33.0</td>\n",
       "      <td>67.0</td>\n",
       "      <td>185.0</td>\n",
       "      <td>0.0</td>\n",
       "    </tr>\n",
       "    <tr>\n",
       "      <th>1035</th>\n",
       "      <td>65</td>\n",
       "      <td>237.0</td>\n",
       "      <td>0</td>\n",
       "      <td>31.0</td>\n",
       "      <td>67.0</td>\n",
       "      <td>130.0</td>\n",
       "      <td>0.0</td>\n",
       "    </tr>\n",
       "    <tr>\n",
       "      <th>1063</th>\n",
       "      <td>73</td>\n",
       "      <td>277.0</td>\n",
       "      <td>0</td>\n",
       "      <td>29.0</td>\n",
       "      <td>65.0</td>\n",
       "      <td>145.0</td>\n",
       "      <td>0.0</td>\n",
       "    </tr>\n",
       "    <tr>\n",
       "      <th>1065</th>\n",
       "      <td>65</td>\n",
       "      <td>232.0</td>\n",
       "      <td>0</td>\n",
       "      <td>24.0</td>\n",
       "      <td>66.0</td>\n",
       "      <td>125.0</td>\n",
       "      <td>1.0</td>\n",
       "    </tr>\n",
       "    <tr>\n",
       "      <th>1099</th>\n",
       "      <td>174</td>\n",
       "      <td>284.0</td>\n",
       "      <td>0</td>\n",
       "      <td>39.0</td>\n",
       "      <td>65.0</td>\n",
       "      <td>163.0</td>\n",
       "      <td>0.0</td>\n",
       "    </tr>\n",
       "    <tr>\n",
       "      <th>1139</th>\n",
       "      <td>63</td>\n",
       "      <td>236.0</td>\n",
       "      <td>1</td>\n",
       "      <td>24.0</td>\n",
       "      <td>58.0</td>\n",
       "      <td>99.0</td>\n",
       "      <td>0.0</td>\n",
       "    </tr>\n",
       "    <tr>\n",
       "      <th>1148</th>\n",
       "      <td>72</td>\n",
       "      <td>266.0</td>\n",
       "      <td>1</td>\n",
       "      <td>25.0</td>\n",
       "      <td>66.0</td>\n",
       "      <td>200.0</td>\n",
       "      <td>1.0</td>\n",
       "    </tr>\n",
       "    <tr>\n",
       "      <th>1149</th>\n",
       "      <td>75</td>\n",
       "      <td>266.0</td>\n",
       "      <td>0</td>\n",
       "      <td>37.0</td>\n",
       "      <td>61.0</td>\n",
       "      <td>113.0</td>\n",
       "      <td>1.0</td>\n",
       "    </tr>\n",
       "    <tr>\n",
       "      <th>1169</th>\n",
       "      <td>71</td>\n",
       "      <td>254.0</td>\n",
       "      <td>0</td>\n",
       "      <td>19.0</td>\n",
       "      <td>61.0</td>\n",
       "      <td>145.0</td>\n",
       "      <td>1.0</td>\n",
       "    </tr>\n",
       "    <tr>\n",
       "      <th>1211</th>\n",
       "      <td>75</td>\n",
       "      <td>265.0</td>\n",
       "      <td>0</td>\n",
       "      <td>21.0</td>\n",
       "      <td>65.0</td>\n",
       "      <td>103.0</td>\n",
       "      <td>1.0</td>\n",
       "    </tr>\n",
       "  </tbody>\n",
       "</table>\n",
       "</div>"
      ],
      "text/plain": [
       "      bwt  gestation  parity   age  height  weight  smoke\n",
       "192    75      239.0       0  26.0    63.0   124.0    1.0\n",
       "239   173      293.0       0  30.0    63.0   110.0    0.0\n",
       "309    71      281.0       0  32.0    60.0   117.0    1.0\n",
       "361    71      234.0       0  32.0    64.0   110.0    1.0\n",
       "462    68      223.0       0  32.0    66.0   149.0    1.0\n",
       "500    69      232.0       0  31.0    59.0   103.0    1.0\n",
       "529    71      277.0       0  40.0    69.0   135.0    0.0\n",
       "556   174      281.0       0  37.0    67.0   155.0    0.0\n",
       "594   170      303.0       1  21.0    64.0   129.0    0.0\n",
       "632   176      293.0       1  19.0    68.0   180.0    0.0\n",
       "709   166      299.0       0  26.0    68.0   140.0    0.0\n",
       "738   167      288.0       1  19.0    63.0   117.0    0.0\n",
       "739    71        NaN       0  19.0    64.0   120.0    0.0\n",
       "747   174      288.0       0  25.0    61.0   182.0    0.0\n",
       "814   165      282.0       0  29.0    66.0   145.0    0.0\n",
       "829    62      228.0       0  24.0    61.0   107.0    0.0\n",
       "904    72      271.0       0  39.0    61.0   136.0    0.0\n",
       "912    58      245.0       0  34.0    64.0   156.0    1.0\n",
       "978    55      204.0       0  35.0    65.0   140.0    0.0\n",
       "1020   75      247.0       0  36.0    64.0   120.0    1.0\n",
       "1021  169      296.0       0  33.0    67.0   185.0    0.0\n",
       "1035   65      237.0       0  31.0    67.0   130.0    0.0\n",
       "1063   73      277.0       0  29.0    65.0   145.0    0.0\n",
       "1065   65      232.0       0  24.0    66.0   125.0    1.0\n",
       "1099  174      284.0       0  39.0    65.0   163.0    0.0\n",
       "1139   63      236.0       1  24.0    58.0    99.0    0.0\n",
       "1148   72      266.0       1  25.0    66.0   200.0    1.0\n",
       "1149   75      266.0       0  37.0    61.0   113.0    1.0\n",
       "1169   71      254.0       0  19.0    61.0   145.0    1.0\n",
       "1211   75      265.0       0  21.0    65.0   103.0    1.0"
      ]
     },
     "execution_count": 237,
     "metadata": {},
     "output_type": "execute_result"
    }
   ],
   "source": [
    "dfq.iloc[[ 192,  239,  309,  361,  462,  500,  529,  556,  594,  632,\n",
    "             709,  738,  739,  747,  814,  829,  904,  912,  978, 1020, 1021,\n",
    "            1035, 1063, 1065, 1099, 1139, 1148, 1149, 1169, 1211]]\n",
    " "
   ]
  },
  {
   "cell_type": "code",
   "execution_count": 256,
   "id": "49df175a",
   "metadata": {},
   "outputs": [
    {
     "name": "stdout",
     "output_type": "stream",
     "text": [
      "(1205, 7)\n"
     ]
    }
   ],
   "source": [
    "# drop outliers index for \n",
    "dfq = dfq.drop(iqr_outliers)\n",
    "\n",
    "print(dfq.shape)\n"
   ]
  },
  {
   "cell_type": "code",
   "execution_count": 326,
   "id": "977dedee",
   "metadata": {},
   "outputs": [
    {
     "data": {
      "text/html": [
       "<div>\n",
       "<style scoped>\n",
       "    .dataframe tbody tr th:only-of-type {\n",
       "        vertical-align: middle;\n",
       "    }\n",
       "\n",
       "    .dataframe tbody tr th {\n",
       "        vertical-align: top;\n",
       "    }\n",
       "\n",
       "    .dataframe thead th {\n",
       "        text-align: right;\n",
       "    }\n",
       "</style>\n",
       "<table border=\"1\" class=\"dataframe\">\n",
       "  <thead>\n",
       "    <tr style=\"text-align: right;\">\n",
       "      <th></th>\n",
       "      <th>bwt</th>\n",
       "      <th>gestation</th>\n",
       "      <th>parity</th>\n",
       "      <th>age</th>\n",
       "      <th>height</th>\n",
       "      <th>weight</th>\n",
       "      <th>smoke</th>\n",
       "    </tr>\n",
       "  </thead>\n",
       "  <tbody>\n",
       "    <tr>\n",
       "      <th>0</th>\n",
       "      <td>120</td>\n",
       "      <td>284.0</td>\n",
       "      <td>0</td>\n",
       "      <td>27.0</td>\n",
       "      <td>62.0</td>\n",
       "      <td>100.0</td>\n",
       "      <td>0.0</td>\n",
       "    </tr>\n",
       "    <tr>\n",
       "      <th>1</th>\n",
       "      <td>113</td>\n",
       "      <td>282.0</td>\n",
       "      <td>0</td>\n",
       "      <td>33.0</td>\n",
       "      <td>64.0</td>\n",
       "      <td>135.0</td>\n",
       "      <td>0.0</td>\n",
       "    </tr>\n",
       "    <tr>\n",
       "      <th>2</th>\n",
       "      <td>128</td>\n",
       "      <td>279.0</td>\n",
       "      <td>0</td>\n",
       "      <td>28.0</td>\n",
       "      <td>64.0</td>\n",
       "      <td>77.0</td>\n",
       "      <td>1.0</td>\n",
       "    </tr>\n",
       "    <tr>\n",
       "      <th>3</th>\n",
       "      <td>123</td>\n",
       "      <td>NaN</td>\n",
       "      <td>0</td>\n",
       "      <td>36.0</td>\n",
       "      <td>69.0</td>\n",
       "      <td>190.0</td>\n",
       "      <td>0.0</td>\n",
       "    </tr>\n",
       "    <tr>\n",
       "      <th>4</th>\n",
       "      <td>108</td>\n",
       "      <td>282.0</td>\n",
       "      <td>0</td>\n",
       "      <td>23.0</td>\n",
       "      <td>67.0</td>\n",
       "      <td>125.0</td>\n",
       "      <td>1.0</td>\n",
       "    </tr>\n",
       "    <tr>\n",
       "      <th>...</th>\n",
       "      <td>...</td>\n",
       "      <td>...</td>\n",
       "      <td>...</td>\n",
       "      <td>...</td>\n",
       "      <td>...</td>\n",
       "      <td>...</td>\n",
       "      <td>...</td>\n",
       "    </tr>\n",
       "    <tr>\n",
       "      <th>1231</th>\n",
       "      <td>113</td>\n",
       "      <td>275.0</td>\n",
       "      <td>1</td>\n",
       "      <td>27.0</td>\n",
       "      <td>60.0</td>\n",
       "      <td>100.0</td>\n",
       "      <td>0.0</td>\n",
       "    </tr>\n",
       "    <tr>\n",
       "      <th>1232</th>\n",
       "      <td>128</td>\n",
       "      <td>265.0</td>\n",
       "      <td>0</td>\n",
       "      <td>24.0</td>\n",
       "      <td>67.0</td>\n",
       "      <td>120.0</td>\n",
       "      <td>0.0</td>\n",
       "    </tr>\n",
       "    <tr>\n",
       "      <th>1233</th>\n",
       "      <td>130</td>\n",
       "      <td>291.0</td>\n",
       "      <td>0</td>\n",
       "      <td>30.0</td>\n",
       "      <td>65.0</td>\n",
       "      <td>67.0</td>\n",
       "      <td>1.0</td>\n",
       "    </tr>\n",
       "    <tr>\n",
       "      <th>1234</th>\n",
       "      <td>125</td>\n",
       "      <td>281.0</td>\n",
       "      <td>1</td>\n",
       "      <td>21.0</td>\n",
       "      <td>65.0</td>\n",
       "      <td>110.0</td>\n",
       "      <td>0.0</td>\n",
       "    </tr>\n",
       "    <tr>\n",
       "      <th>1235</th>\n",
       "      <td>117</td>\n",
       "      <td>297.0</td>\n",
       "      <td>0</td>\n",
       "      <td>38.0</td>\n",
       "      <td>65.0</td>\n",
       "      <td>129.0</td>\n",
       "      <td>0.0</td>\n",
       "    </tr>\n",
       "  </tbody>\n",
       "</table>\n",
       "<p>1236 rows × 7 columns</p>\n",
       "</div>"
      ],
      "text/plain": [
       "      bwt  gestation  parity   age  height  weight  smoke\n",
       "0     120      284.0       0  27.0    62.0   100.0    0.0\n",
       "1     113      282.0       0  33.0    64.0   135.0    0.0\n",
       "2     128      279.0       0  28.0    64.0    77.0    1.0\n",
       "3     123        NaN       0  36.0    69.0   190.0    0.0\n",
       "4     108      282.0       0  23.0    67.0   125.0    1.0\n",
       "...   ...        ...     ...   ...     ...     ...    ...\n",
       "1231  113      275.0       1  27.0    60.0   100.0    0.0\n",
       "1232  128      265.0       0  24.0    67.0   120.0    0.0\n",
       "1233  130      291.0       0  30.0    65.0    67.0    1.0\n",
       "1234  125      281.0       1  21.0    65.0   110.0    0.0\n",
       "1235  117      297.0       0  38.0    65.0   129.0    0.0\n",
       "\n",
       "[1236 rows x 7 columns]"
      ]
     },
     "execution_count": 326,
     "metadata": {},
     "output_type": "execute_result"
    }
   ],
   "source": [
    "#finding ouliers for gestation \n",
    "dfq = df.copy()\n",
    "dfq"
   ]
  },
  {
   "cell_type": "code",
   "execution_count": 327,
   "id": "c3a48be3",
   "metadata": {},
   "outputs": [
    {
     "data": {
      "text/plain": [
       "(1236, 7)"
      ]
     },
     "execution_count": 327,
     "metadata": {},
     "output_type": "execute_result"
    }
   ],
   "source": [
    "dfq.shape"
   ]
  },
  {
   "cell_type": "code",
   "execution_count": 328,
   "id": "407741c8",
   "metadata": {},
   "outputs": [
    {
     "name": "stdout",
     "output_type": "stream",
     "text": [
      "Q1: 272.0\n",
      "Q3: 288.0\n"
     ]
    }
   ],
   "source": [
    "q1 = dfq['gestation'].quantile(.25)\n",
    "q3 = dfq['gestation'].quantile(.75)\n",
    "print('Q1:', q1)\n",
    "print('Q3:', q3)\n"
   ]
  },
  {
   "cell_type": "code",
   "execution_count": 329,
   "id": "6fd9c871",
   "metadata": {},
   "outputs": [
    {
     "name": "stdout",
     "output_type": "stream",
     "text": [
      " IQR: 16.0\n"
     ]
    }
   ],
   "source": [
    "iqr =q3-q1\n",
    "print(' IQR:', iqr)"
   ]
  },
  {
   "cell_type": "code",
   "execution_count": 330,
   "id": "81828a57",
   "metadata": {},
   "outputs": [
    {
     "name": "stdout",
     "output_type": "stream",
     "text": [
      "Upper Limit: 312.0\n",
      "Lower Limit: 248.0\n"
     ]
    }
   ],
   "source": [
    "top = q3 +(iqr * 1.5)\n",
    "bottomm = q1- (iqr * 1.5)\n",
    "\n",
    "print('Upper Limit:', top)\n",
    "print('Lower Limit:', bottomm)"
   ]
  },
  {
   "cell_type": "code",
   "execution_count": 331,
   "id": "1a61694b",
   "metadata": {},
   "outputs": [
    {
     "name": "stdout",
     "output_type": "stream",
     "text": [
      "Index Value: Int64Index([  10,  152,  155,  198,  234,  240,  253,  279,  373,  394,  439,\n",
      "             460,  685,  746,  761,  769,  778,  952,  969, 1002, 1026, 1044,\n",
      "            1074, 1140, 1172, 1199, 1217, 1219],\n",
      "           dtype='int64')\n"
     ]
    }
   ],
   "source": [
    "iqr_outliers = dfq.loc[(dfq['gestation'] > top) | (dfq['gestation'] < bottom)].index\n",
    "\n",
    "print('Index Value:', iqr_outliers)"
   ]
  },
  {
   "cell_type": "code",
   "execution_count": 332,
   "id": "b8526c0e",
   "metadata": {},
   "outputs": [
    {
     "data": {
      "text/html": [
       "<div>\n",
       "<style scoped>\n",
       "    .dataframe tbody tr th:only-of-type {\n",
       "        vertical-align: middle;\n",
       "    }\n",
       "\n",
       "    .dataframe tbody tr th {\n",
       "        vertical-align: top;\n",
       "    }\n",
       "\n",
       "    .dataframe thead th {\n",
       "        text-align: right;\n",
       "    }\n",
       "</style>\n",
       "<table border=\"1\" class=\"dataframe\">\n",
       "  <thead>\n",
       "    <tr style=\"text-align: right;\">\n",
       "      <th></th>\n",
       "      <th>bwt</th>\n",
       "      <th>gestation</th>\n",
       "      <th>parity</th>\n",
       "      <th>age</th>\n",
       "      <th>height</th>\n",
       "      <th>weight</th>\n",
       "      <th>smoke</th>\n",
       "    </tr>\n",
       "  </thead>\n",
       "  <tbody>\n",
       "    <tr>\n",
       "      <th>59</th>\n",
       "      <td>75</td>\n",
       "      <td>232.0</td>\n",
       "      <td>0</td>\n",
       "      <td>33.0</td>\n",
       "      <td>61.0</td>\n",
       "      <td>110.0</td>\n",
       "      <td>0.0</td>\n",
       "    </tr>\n",
       "    <tr>\n",
       "      <th>192</th>\n",
       "      <td>75</td>\n",
       "      <td>239.0</td>\n",
       "      <td>0</td>\n",
       "      <td>26.0</td>\n",
       "      <td>63.0</td>\n",
       "      <td>124.0</td>\n",
       "      <td>1.0</td>\n",
       "    </tr>\n",
       "    <tr>\n",
       "      <th>309</th>\n",
       "      <td>71</td>\n",
       "      <td>281.0</td>\n",
       "      <td>0</td>\n",
       "      <td>32.0</td>\n",
       "      <td>60.0</td>\n",
       "      <td>117.0</td>\n",
       "      <td>1.0</td>\n",
       "    </tr>\n",
       "    <tr>\n",
       "      <th>361</th>\n",
       "      <td>71</td>\n",
       "      <td>234.0</td>\n",
       "      <td>0</td>\n",
       "      <td>32.0</td>\n",
       "      <td>64.0</td>\n",
       "      <td>110.0</td>\n",
       "      <td>1.0</td>\n",
       "    </tr>\n",
       "    <tr>\n",
       "      <th>462</th>\n",
       "      <td>68</td>\n",
       "      <td>223.0</td>\n",
       "      <td>0</td>\n",
       "      <td>32.0</td>\n",
       "      <td>66.0</td>\n",
       "      <td>149.0</td>\n",
       "      <td>1.0</td>\n",
       "    </tr>\n",
       "    <tr>\n",
       "      <th>500</th>\n",
       "      <td>69</td>\n",
       "      <td>232.0</td>\n",
       "      <td>0</td>\n",
       "      <td>31.0</td>\n",
       "      <td>59.0</td>\n",
       "      <td>103.0</td>\n",
       "      <td>1.0</td>\n",
       "    </tr>\n",
       "    <tr>\n",
       "      <th>529</th>\n",
       "      <td>71</td>\n",
       "      <td>277.0</td>\n",
       "      <td>0</td>\n",
       "      <td>40.0</td>\n",
       "      <td>69.0</td>\n",
       "      <td>135.0</td>\n",
       "      <td>0.0</td>\n",
       "    </tr>\n",
       "    <tr>\n",
       "      <th>739</th>\n",
       "      <td>71</td>\n",
       "      <td>NaN</td>\n",
       "      <td>0</td>\n",
       "      <td>19.0</td>\n",
       "      <td>64.0</td>\n",
       "      <td>120.0</td>\n",
       "      <td>0.0</td>\n",
       "    </tr>\n",
       "    <tr>\n",
       "      <th>829</th>\n",
       "      <td>62</td>\n",
       "      <td>228.0</td>\n",
       "      <td>0</td>\n",
       "      <td>24.0</td>\n",
       "      <td>61.0</td>\n",
       "      <td>107.0</td>\n",
       "      <td>0.0</td>\n",
       "    </tr>\n",
       "    <tr>\n",
       "      <th>904</th>\n",
       "      <td>72</td>\n",
       "      <td>271.0</td>\n",
       "      <td>0</td>\n",
       "      <td>39.0</td>\n",
       "      <td>61.0</td>\n",
       "      <td>136.0</td>\n",
       "      <td>0.0</td>\n",
       "    </tr>\n",
       "    <tr>\n",
       "      <th>912</th>\n",
       "      <td>58</td>\n",
       "      <td>245.0</td>\n",
       "      <td>0</td>\n",
       "      <td>34.0</td>\n",
       "      <td>64.0</td>\n",
       "      <td>156.0</td>\n",
       "      <td>1.0</td>\n",
       "    </tr>\n",
       "    <tr>\n",
       "      <th>978</th>\n",
       "      <td>55</td>\n",
       "      <td>204.0</td>\n",
       "      <td>0</td>\n",
       "      <td>35.0</td>\n",
       "      <td>65.0</td>\n",
       "      <td>140.0</td>\n",
       "      <td>0.0</td>\n",
       "    </tr>\n",
       "    <tr>\n",
       "      <th>1020</th>\n",
       "      <td>75</td>\n",
       "      <td>247.0</td>\n",
       "      <td>0</td>\n",
       "      <td>36.0</td>\n",
       "      <td>64.0</td>\n",
       "      <td>120.0</td>\n",
       "      <td>1.0</td>\n",
       "    </tr>\n",
       "    <tr>\n",
       "      <th>1035</th>\n",
       "      <td>65</td>\n",
       "      <td>237.0</td>\n",
       "      <td>0</td>\n",
       "      <td>31.0</td>\n",
       "      <td>67.0</td>\n",
       "      <td>130.0</td>\n",
       "      <td>0.0</td>\n",
       "    </tr>\n",
       "    <tr>\n",
       "      <th>1063</th>\n",
       "      <td>73</td>\n",
       "      <td>277.0</td>\n",
       "      <td>0</td>\n",
       "      <td>29.0</td>\n",
       "      <td>65.0</td>\n",
       "      <td>145.0</td>\n",
       "      <td>0.0</td>\n",
       "    </tr>\n",
       "    <tr>\n",
       "      <th>1065</th>\n",
       "      <td>65</td>\n",
       "      <td>232.0</td>\n",
       "      <td>0</td>\n",
       "      <td>24.0</td>\n",
       "      <td>66.0</td>\n",
       "      <td>125.0</td>\n",
       "      <td>1.0</td>\n",
       "    </tr>\n",
       "    <tr>\n",
       "      <th>1139</th>\n",
       "      <td>63</td>\n",
       "      <td>236.0</td>\n",
       "      <td>1</td>\n",
       "      <td>24.0</td>\n",
       "      <td>58.0</td>\n",
       "      <td>99.0</td>\n",
       "      <td>0.0</td>\n",
       "    </tr>\n",
       "    <tr>\n",
       "      <th>1148</th>\n",
       "      <td>72</td>\n",
       "      <td>266.0</td>\n",
       "      <td>1</td>\n",
       "      <td>25.0</td>\n",
       "      <td>66.0</td>\n",
       "      <td>200.0</td>\n",
       "      <td>1.0</td>\n",
       "    </tr>\n",
       "    <tr>\n",
       "      <th>1149</th>\n",
       "      <td>75</td>\n",
       "      <td>266.0</td>\n",
       "      <td>0</td>\n",
       "      <td>37.0</td>\n",
       "      <td>61.0</td>\n",
       "      <td>113.0</td>\n",
       "      <td>1.0</td>\n",
       "    </tr>\n",
       "    <tr>\n",
       "      <th>1169</th>\n",
       "      <td>71</td>\n",
       "      <td>254.0</td>\n",
       "      <td>0</td>\n",
       "      <td>19.0</td>\n",
       "      <td>61.0</td>\n",
       "      <td>145.0</td>\n",
       "      <td>1.0</td>\n",
       "    </tr>\n",
       "    <tr>\n",
       "      <th>1211</th>\n",
       "      <td>75</td>\n",
       "      <td>265.0</td>\n",
       "      <td>0</td>\n",
       "      <td>21.0</td>\n",
       "      <td>65.0</td>\n",
       "      <td>103.0</td>\n",
       "      <td>1.0</td>\n",
       "    </tr>\n",
       "  </tbody>\n",
       "</table>\n",
       "</div>"
      ],
      "text/plain": [
       "      bwt  gestation  parity   age  height  weight  smoke\n",
       "59     75      232.0       0  33.0    61.0   110.0    0.0\n",
       "192    75      239.0       0  26.0    63.0   124.0    1.0\n",
       "309    71      281.0       0  32.0    60.0   117.0    1.0\n",
       "361    71      234.0       0  32.0    64.0   110.0    1.0\n",
       "462    68      223.0       0  32.0    66.0   149.0    1.0\n",
       "500    69      232.0       0  31.0    59.0   103.0    1.0\n",
       "529    71      277.0       0  40.0    69.0   135.0    0.0\n",
       "739    71        NaN       0  19.0    64.0   120.0    0.0\n",
       "829    62      228.0       0  24.0    61.0   107.0    0.0\n",
       "904    72      271.0       0  39.0    61.0   136.0    0.0\n",
       "912    58      245.0       0  34.0    64.0   156.0    1.0\n",
       "978    55      204.0       0  35.0    65.0   140.0    0.0\n",
       "1020   75      247.0       0  36.0    64.0   120.0    1.0\n",
       "1035   65      237.0       0  31.0    67.0   130.0    0.0\n",
       "1063   73      277.0       0  29.0    65.0   145.0    0.0\n",
       "1065   65      232.0       0  24.0    66.0   125.0    1.0\n",
       "1139   63      236.0       1  24.0    58.0    99.0    0.0\n",
       "1148   72      266.0       1  25.0    66.0   200.0    1.0\n",
       "1149   75      266.0       0  37.0    61.0   113.0    1.0\n",
       "1169   71      254.0       0  19.0    61.0   145.0    1.0\n",
       "1211   75      265.0       0  21.0    65.0   103.0    1.0"
      ]
     },
     "execution_count": 332,
     "metadata": {},
     "output_type": "execute_result"
    }
   ],
   "source": [
    "dfq.iloc[[ 59,  192,  309,  361,  462,  500,  529,  739,  829,  904,  912,\n",
    "             978, 1020, 1035, 1063, 1065, 1139, 1148, 1149, 1169, 1211]]"
   ]
  },
  {
   "cell_type": "code",
   "execution_count": 333,
   "id": "2a32a195",
   "metadata": {},
   "outputs": [
    {
     "name": "stdout",
     "output_type": "stream",
     "text": [
      "(1208, 7)\n"
     ]
    }
   ],
   "source": [
    "dfq = dfq.drop(iqr_outliers)\n",
    "\n",
    "print(dfq.shape)"
   ]
  },
  {
   "cell_type": "code",
   "execution_count": 30,
   "id": "ad0a0f4b",
   "metadata": {},
   "outputs": [
    {
     "data": {
      "text/plain": [
       "(1236, 7)"
      ]
     },
     "execution_count": 30,
     "metadata": {},
     "output_type": "execute_result"
    }
   ],
   "source": [
    "#finding ouliers in age\n",
    "\n",
    "dfq = df.copy()\n",
    "dfq. shape"
   ]
  },
  {
   "cell_type": "code",
   "execution_count": 31,
   "id": "d42bd6c1",
   "metadata": {},
   "outputs": [
    {
     "name": "stdout",
     "output_type": "stream",
     "text": [
      "Q1: 23.0\n",
      "Q3: 31.0\n"
     ]
    }
   ],
   "source": [
    "q1 = dfq['age'].quantile(.25)\n",
    "q3 = dfq['age'].quantile(.75)\n",
    "print('Q1:', q1)\n",
    "print('Q3:', q3)\n"
   ]
  },
  {
   "cell_type": "code",
   "execution_count": 32,
   "id": "cd5a2ddf",
   "metadata": {},
   "outputs": [
    {
     "name": "stdout",
     "output_type": "stream",
     "text": [
      "IQR: 8.0\n"
     ]
    }
   ],
   "source": [
    "iqr = q3 - q1\n",
    "print('IQR:', iqr)"
   ]
  },
  {
   "cell_type": "code",
   "execution_count": 33,
   "id": "0a936775",
   "metadata": {},
   "outputs": [
    {
     "name": "stdout",
     "output_type": "stream",
     "text": [
      "Upper Limit: 43.0\n",
      "Lower Limit: 11.0\n"
     ]
    }
   ],
   "source": [
    "top = q3 +(iqr * 1.5)\n",
    "bottom = q1- (iqr * 1.5)\n",
    "\n",
    "print('Upper Limit:', top)\n",
    "print('Lower Limit:', bottom)"
   ]
  },
  {
   "cell_type": "code",
   "execution_count": 34,
   "id": "b56c534b",
   "metadata": {},
   "outputs": [
    {
     "name": "stdout",
     "output_type": "stream",
     "text": [
      "Index Value: Int64Index([633, 1070], dtype='int64')\n"
     ]
    }
   ],
   "source": [
    "iqr_outliers = dfq.loc[(dfq['age'] > top) | (dfq['age'] < bottom)].index\n",
    "\n",
    "print('Index Value:', iqr_outliers)"
   ]
  },
  {
   "cell_type": "code",
   "execution_count": 35,
   "id": "821a9a04",
   "metadata": {},
   "outputs": [],
   "source": [
    "dfq = dfq.iloc[[633,1070]]"
   ]
  },
  {
   "cell_type": "code",
   "execution_count": 36,
   "id": "90a346bf",
   "metadata": {},
   "outputs": [
    {
     "data": {
      "text/html": [
       "<div>\n",
       "<style scoped>\n",
       "    .dataframe tbody tr th:only-of-type {\n",
       "        vertical-align: middle;\n",
       "    }\n",
       "\n",
       "    .dataframe tbody tr th {\n",
       "        vertical-align: top;\n",
       "    }\n",
       "\n",
       "    .dataframe thead th {\n",
       "        text-align: right;\n",
       "    }\n",
       "</style>\n",
       "<table border=\"1\" class=\"dataframe\">\n",
       "  <thead>\n",
       "    <tr style=\"text-align: right;\">\n",
       "      <th></th>\n",
       "      <th>bwt</th>\n",
       "      <th>gestation</th>\n",
       "      <th>parity</th>\n",
       "      <th>age</th>\n",
       "      <th>height</th>\n",
       "      <th>weight</th>\n",
       "      <th>smoke</th>\n",
       "    </tr>\n",
       "  </thead>\n",
       "  <tbody>\n",
       "    <tr>\n",
       "      <th>633</th>\n",
       "      <td>143</td>\n",
       "      <td>294.0</td>\n",
       "      <td>0</td>\n",
       "      <td>44.0</td>\n",
       "      <td>65.0</td>\n",
       "      <td>145.0</td>\n",
       "      <td>0.0</td>\n",
       "    </tr>\n",
       "    <tr>\n",
       "      <th>1070</th>\n",
       "      <td>122</td>\n",
       "      <td>280.0</td>\n",
       "      <td>1</td>\n",
       "      <td>45.0</td>\n",
       "      <td>62.0</td>\n",
       "      <td>128.0</td>\n",
       "      <td>0.0</td>\n",
       "    </tr>\n",
       "  </tbody>\n",
       "</table>\n",
       "</div>"
      ],
      "text/plain": [
       "      bwt  gestation  parity   age  height  weight  smoke\n",
       "633   143      294.0       0  44.0    65.0   145.0    0.0\n",
       "1070  122      280.0       1  45.0    62.0   128.0    0.0"
      ]
     },
     "execution_count": 36,
     "metadata": {},
     "output_type": "execute_result"
    }
   ],
   "source": [
    "dfq"
   ]
  },
  {
   "cell_type": "code",
   "execution_count": 21,
   "id": "916e7c58",
   "metadata": {},
   "outputs": [
    {
     "name": "stdout",
     "output_type": "stream",
     "text": [
      "(1236, 7)\n"
     ]
    }
   ],
   "source": [
    "#\n",
    "print(dfq.shape)"
   ]
  },
  {
   "cell_type": "code",
   "execution_count": 39,
   "id": "42ccf548",
   "metadata": {},
   "outputs": [
    {
     "data": {
      "text/plain": [
       "(1236, 7)"
      ]
     },
     "execution_count": 39,
     "metadata": {},
     "output_type": "execute_result"
    }
   ],
   "source": [
    "#finding outliers for height\n",
    "\n",
    "dfq = df.copy()\n",
    "dfq.shape"
   ]
  },
  {
   "cell_type": "code",
   "execution_count": 40,
   "id": "1271685f",
   "metadata": {},
   "outputs": [
    {
     "name": "stdout",
     "output_type": "stream",
     "text": [
      "Q1: 62.0\n",
      "Q3: 66.0\n"
     ]
    }
   ],
   "source": [
    "q1 = dfq['height'].quantile(.25)\n",
    "q3 = dfq['height'].quantile(.75)\n",
    "print('Q1:', q1)\n",
    "print('Q3:', q3)"
   ]
  },
  {
   "cell_type": "code",
   "execution_count": 41,
   "id": "1853cf0a",
   "metadata": {},
   "outputs": [
    {
     "name": "stdout",
     "output_type": "stream",
     "text": [
      "IQR: 4.0\n"
     ]
    }
   ],
   "source": [
    "iqr = q3 - q1\n",
    "print('IQR:', iqr)"
   ]
  },
  {
   "cell_type": "code",
   "execution_count": 42,
   "id": "1e695f5f",
   "metadata": {},
   "outputs": [
    {
     "name": "stdout",
     "output_type": "stream",
     "text": [
      "Upper Limit: 72.0\n",
      "Lower Limit: 56.0\n"
     ]
    }
   ],
   "source": [
    "top = q3 + (iqr * 1.5)\n",
    "bottom = q1 - (iqr * 1.5)\n",
    "\n",
    "print('Upper Limit:', top)\n",
    "print('Lower Limit:', bottom)"
   ]
  },
  {
   "cell_type": "code",
   "execution_count": 43,
   "id": "6a4cc7c8",
   "metadata": {},
   "outputs": [
    {
     "name": "stdout",
     "output_type": "stream",
     "text": [
      "Index Value: Int64Index([434, 1208], dtype='int64')\n"
     ]
    }
   ],
   "source": [
    "iqr_outliers = dfq.loc[(dfq['height'] > top) | (dfq['height'] < bottom)].index\n",
    "\n",
    "print('Index Value:', iqr_outliers)"
   ]
  },
  {
   "cell_type": "code",
   "execution_count": 44,
   "id": "077b751b",
   "metadata": {},
   "outputs": [],
   "source": [
    "dfq = dfq.iloc[[434,1208]]"
   ]
  },
  {
   "cell_type": "code",
   "execution_count": 45,
   "id": "26cbb629",
   "metadata": {},
   "outputs": [
    {
     "data": {
      "text/html": [
       "<div>\n",
       "<style scoped>\n",
       "    .dataframe tbody tr th:only-of-type {\n",
       "        vertical-align: middle;\n",
       "    }\n",
       "\n",
       "    .dataframe tbody tr th {\n",
       "        vertical-align: top;\n",
       "    }\n",
       "\n",
       "    .dataframe thead th {\n",
       "        text-align: right;\n",
       "    }\n",
       "</style>\n",
       "<table border=\"1\" class=\"dataframe\">\n",
       "  <thead>\n",
       "    <tr style=\"text-align: right;\">\n",
       "      <th></th>\n",
       "      <th>bwt</th>\n",
       "      <th>gestation</th>\n",
       "      <th>parity</th>\n",
       "      <th>age</th>\n",
       "      <th>height</th>\n",
       "      <th>weight</th>\n",
       "      <th>smoke</th>\n",
       "    </tr>\n",
       "  </thead>\n",
       "  <tbody>\n",
       "    <tr>\n",
       "      <th>434</th>\n",
       "      <td>146</td>\n",
       "      <td>263.0</td>\n",
       "      <td>0</td>\n",
       "      <td>39.0</td>\n",
       "      <td>53.0</td>\n",
       "      <td>110.0</td>\n",
       "      <td>1.0</td>\n",
       "    </tr>\n",
       "    <tr>\n",
       "      <th>1208</th>\n",
       "      <td>141</td>\n",
       "      <td>281.0</td>\n",
       "      <td>0</td>\n",
       "      <td>29.0</td>\n",
       "      <td>54.0</td>\n",
       "      <td>156.0</td>\n",
       "      <td>1.0</td>\n",
       "    </tr>\n",
       "  </tbody>\n",
       "</table>\n",
       "</div>"
      ],
      "text/plain": [
       "      bwt  gestation  parity   age  height  weight  smoke\n",
       "434   146      263.0       0  39.0    53.0   110.0    1.0\n",
       "1208  141      281.0       0  29.0    54.0   156.0    1.0"
      ]
     },
     "execution_count": 45,
     "metadata": {},
     "output_type": "execute_result"
    }
   ],
   "source": [
    "dfq"
   ]
  },
  {
   "cell_type": "code",
   "execution_count": 46,
   "id": "365cd195",
   "metadata": {},
   "outputs": [],
   "source": [
    "dfq = dfq.drop(iqr_outliers)"
   ]
  },
  {
   "cell_type": "code",
   "execution_count": 387,
   "id": "09d71062",
   "metadata": {},
   "outputs": [
    {
     "data": {
      "text/plain": [
       "(1236, 7)"
      ]
     },
     "execution_count": 387,
     "metadata": {},
     "output_type": "execute_result"
    }
   ],
   "source": [
    "#finding outliers in weight\n",
    "\n",
    "dfq = df.copy()\n",
    "dfq.shape"
   ]
  },
  {
   "cell_type": "code",
   "execution_count": 388,
   "id": "d6ebf22a",
   "metadata": {},
   "outputs": [
    {
     "name": "stdout",
     "output_type": "stream",
     "text": [
      "Q1: 114.0\n",
      "Q3: 140.0\n"
     ]
    }
   ],
   "source": [
    "q1 = dfq['weight'].quantile(.25)\n",
    "q3 = dfq['weight'].quantile(.75)\n",
    "\n",
    "print('Q1:', q1)\n",
    "print('Q3:', q3)"
   ]
  },
  {
   "cell_type": "code",
   "execution_count": 389,
   "id": "f5088aaf",
   "metadata": {},
   "outputs": [
    {
     "name": "stdout",
     "output_type": "stream",
     "text": [
      "IQR: 26.0\n"
     ]
    }
   ],
   "source": [
    "iqr = q3-q1\n",
    "print('IQR:', iqr)"
   ]
  },
  {
   "cell_type": "code",
   "execution_count": 390,
   "id": "a6c0c2c1",
   "metadata": {},
   "outputs": [
    {
     "name": "stdout",
     "output_type": "stream",
     "text": [
      "Upper Limit: 350.0\n",
      "Lower Lilmit: -57.0\n"
     ]
    }
   ],
   "source": [
    "top = q3 + (q3 * 1.5)\n",
    "bottom = q1 - (q1 * 1.5)\n",
    "\n",
    "print('Upper Limit:', top)\n",
    "print('Lower Lilmit:', bottom)"
   ]
  },
  {
   "cell_type": "code",
   "execution_count": 392,
   "id": "e9d4cbe3",
   "metadata": {},
   "outputs": [
    {
     "name": "stdout",
     "output_type": "stream",
     "text": [
      "Index Value: Int64Index([14, 125, 314, 344, 458, 595, 911], dtype='int64')\n"
     ]
    }
   ],
   "source": [
    "iqr_outliers = dfq.loc[(dfq['weight'] > top) | (dfq['weight'] < bottom)].index\n",
    "print('Index Value:',iqr_outliers )"
   ]
  },
  {
   "cell_type": "code",
   "execution_count": 393,
   "id": "c34d3f7f",
   "metadata": {},
   "outputs": [
    {
     "data": {
      "text/html": [
       "<div>\n",
       "<style scoped>\n",
       "    .dataframe tbody tr th:only-of-type {\n",
       "        vertical-align: middle;\n",
       "    }\n",
       "\n",
       "    .dataframe tbody tr th {\n",
       "        vertical-align: top;\n",
       "    }\n",
       "\n",
       "    .dataframe thead th {\n",
       "        text-align: right;\n",
       "    }\n",
       "</style>\n",
       "<table border=\"1\" class=\"dataframe\">\n",
       "  <thead>\n",
       "    <tr style=\"text-align: right;\">\n",
       "      <th></th>\n",
       "      <th>bwt</th>\n",
       "      <th>gestation</th>\n",
       "      <th>parity</th>\n",
       "      <th>age</th>\n",
       "      <th>height</th>\n",
       "      <th>weight</th>\n",
       "      <th>smoke</th>\n",
       "    </tr>\n",
       "  </thead>\n",
       "  <tbody>\n",
       "    <tr>\n",
       "      <th>14</th>\n",
       "      <td>114</td>\n",
       "      <td>273.0</td>\n",
       "      <td>0</td>\n",
       "      <td>30.0</td>\n",
       "      <td>63.0</td>\n",
       "      <td>498.0</td>\n",
       "      <td>0.0</td>\n",
       "    </tr>\n",
       "    <tr>\n",
       "      <th>125</th>\n",
       "      <td>115</td>\n",
       "      <td>283.0</td>\n",
       "      <td>0</td>\n",
       "      <td>25.0</td>\n",
       "      <td>61.0</td>\n",
       "      <td>1500.0</td>\n",
       "      <td>1.0</td>\n",
       "    </tr>\n",
       "    <tr>\n",
       "      <th>314</th>\n",
       "      <td>100</td>\n",
       "      <td>277.0</td>\n",
       "      <td>0</td>\n",
       "      <td>31.0</td>\n",
       "      <td>62.0</td>\n",
       "      <td>355.0</td>\n",
       "      <td>1.0</td>\n",
       "    </tr>\n",
       "    <tr>\n",
       "      <th>344</th>\n",
       "      <td>105</td>\n",
       "      <td>276.0</td>\n",
       "      <td>0</td>\n",
       "      <td>22.0</td>\n",
       "      <td>67.0</td>\n",
       "      <td>845.0</td>\n",
       "      <td>0.0</td>\n",
       "    </tr>\n",
       "    <tr>\n",
       "      <th>458</th>\n",
       "      <td>85</td>\n",
       "      <td>258.0</td>\n",
       "      <td>0</td>\n",
       "      <td>41.0</td>\n",
       "      <td>67.0</td>\n",
       "      <td>399.0</td>\n",
       "      <td>0.0</td>\n",
       "    </tr>\n",
       "    <tr>\n",
       "      <th>595</th>\n",
       "      <td>104</td>\n",
       "      <td>270.0</td>\n",
       "      <td>0</td>\n",
       "      <td>25.0</td>\n",
       "      <td>61.0</td>\n",
       "      <td>511.0</td>\n",
       "      <td>0.0</td>\n",
       "    </tr>\n",
       "    <tr>\n",
       "      <th>911</th>\n",
       "      <td>138</td>\n",
       "      <td>280.0</td>\n",
       "      <td>1</td>\n",
       "      <td>30.0</td>\n",
       "      <td>65.0</td>\n",
       "      <td>478.0</td>\n",
       "      <td>0.0</td>\n",
       "    </tr>\n",
       "  </tbody>\n",
       "</table>\n",
       "</div>"
      ],
      "text/plain": [
       "     bwt  gestation  parity   age  height  weight  smoke\n",
       "14   114      273.0       0  30.0    63.0   498.0    0.0\n",
       "125  115      283.0       0  25.0    61.0  1500.0    1.0\n",
       "314  100      277.0       0  31.0    62.0   355.0    1.0\n",
       "344  105      276.0       0  22.0    67.0   845.0    0.0\n",
       "458   85      258.0       0  41.0    67.0   399.0    0.0\n",
       "595  104      270.0       0  25.0    61.0   511.0    0.0\n",
       "911  138      280.0       1  30.0    65.0   478.0    0.0"
      ]
     },
     "execution_count": 393,
     "metadata": {},
     "output_type": "execute_result"
    }
   ],
   "source": [
    "dfq.iloc[[14, 125, 314, 344, 458, 595, 911]]"
   ]
  },
  {
   "cell_type": "code",
   "execution_count": 394,
   "id": "248be25c",
   "metadata": {},
   "outputs": [
    {
     "data": {
      "text/plain": [
       "(1229, 7)"
      ]
     },
     "execution_count": 394,
     "metadata": {},
     "output_type": "execute_result"
    }
   ],
   "source": [
    "dfq = dfq.drop(iqr_outliers)\n",
    "\n",
    "dfq.shape"
   ]
  },
  {
   "cell_type": "markdown",
   "id": "92b59a17",
   "metadata": {},
   "source": [
    "7. Describe the characteristics of your qualitative variables by doing the following:\n",
    "\n",
    "    * Determine the frequencies of each group within each categorical variable. Which groups have the highest frequency?\n",
    "    * Determine the relative frequencies of each group within each categorical variable. Which groups have the highest relative frequencies?\n",
    "    * Create a crosstab table using both the categorical variables in your dataset. How many mothers are smokers who have been pregnant before?"
   ]
  },
  {
   "cell_type": "code",
   "execution_count": 395,
   "id": "371d5497",
   "metadata": {},
   "outputs": [
    {
     "data": {
      "text/plain": [
       "0    915\n",
       "1    314\n",
       "Name: parity, dtype: int64"
      ]
     },
     "execution_count": 395,
     "metadata": {},
     "output_type": "execute_result"
    }
   ],
   "source": [
    "dfq['parity'].value_counts()"
   ]
  },
  {
   "cell_type": "code",
   "execution_count": 396,
   "id": "0ac5c49b",
   "metadata": {},
   "outputs": [
    {
     "data": {
      "text/plain": [
       "0.0    737\n",
       "1.0    482\n",
       "Name: smoke, dtype: int64"
      ]
     },
     "execution_count": 396,
     "metadata": {},
     "output_type": "execute_result"
    }
   ],
   "source": [
    "dfq['smoke'].value_counts()"
   ]
  },
  {
   "cell_type": "code",
   "execution_count": null,
   "id": "bb97ba9f",
   "metadata": {},
   "outputs": [],
   "source": [
    "# parity has highest frequency"
   ]
  },
  {
   "cell_type": "code",
   "execution_count": 397,
   "id": "c7bdc396",
   "metadata": {},
   "outputs": [
    {
     "data": {
      "text/plain": [
       "0    0.744508\n",
       "1    0.255492\n",
       "Name: parity, dtype: float64"
      ]
     },
     "execution_count": 397,
     "metadata": {},
     "output_type": "execute_result"
    }
   ],
   "source": [
    "dfq['parity'].value_counts(normalize =  True)"
   ]
  },
  {
   "cell_type": "code",
   "execution_count": 398,
   "id": "49cb851d",
   "metadata": {},
   "outputs": [
    {
     "data": {
      "text/plain": [
       "0.0    0.604594\n",
       "1.0    0.395406\n",
       "Name: smoke, dtype: float64"
      ]
     },
     "execution_count": 398,
     "metadata": {},
     "output_type": "execute_result"
    }
   ],
   "source": [
    "dfq['smoke'].value_counts(normalize = True)"
   ]
  },
  {
   "cell_type": "code",
   "execution_count": 399,
   "id": "db43aaf5",
   "metadata": {},
   "outputs": [
    {
     "data": {
      "text/html": [
       "<div>\n",
       "<style scoped>\n",
       "    .dataframe tbody tr th:only-of-type {\n",
       "        vertical-align: middle;\n",
       "    }\n",
       "\n",
       "    .dataframe tbody tr th {\n",
       "        vertical-align: top;\n",
       "    }\n",
       "\n",
       "    .dataframe thead th {\n",
       "        text-align: right;\n",
       "    }\n",
       "</style>\n",
       "<table border=\"1\" class=\"dataframe\">\n",
       "  <thead>\n",
       "    <tr style=\"text-align: right;\">\n",
       "      <th>smoke</th>\n",
       "      <th>0.0</th>\n",
       "      <th>1.0</th>\n",
       "    </tr>\n",
       "    <tr>\n",
       "      <th>parity</th>\n",
       "      <th></th>\n",
       "      <th></th>\n",
       "    </tr>\n",
       "  </thead>\n",
       "  <tbody>\n",
       "    <tr>\n",
       "      <th>0</th>\n",
       "      <td>544</td>\n",
       "      <td>361</td>\n",
       "    </tr>\n",
       "    <tr>\n",
       "      <th>1</th>\n",
       "      <td>193</td>\n",
       "      <td>121</td>\n",
       "    </tr>\n",
       "  </tbody>\n",
       "</table>\n",
       "</div>"
      ],
      "text/plain": [
       "smoke   0.0  1.0\n",
       "parity          \n",
       "0       544  361\n",
       "1       193  121"
      ]
     },
     "execution_count": 399,
     "metadata": {},
     "output_type": "execute_result"
    }
   ],
   "source": [
    "pd.crosstab(dfq['parity'], dfq['smoke'], margins = False, normalize = False)"
   ]
  },
  {
   "cell_type": "code",
   "execution_count": null,
   "id": "eed50b49",
   "metadata": {},
   "outputs": [],
   "source": [
    "# both group have equal relative frequency\n",
    "# 121 were pregnant before"
   ]
  },
  {
   "cell_type": "markdown",
   "id": "dfac25c7",
   "metadata": {},
   "source": [
    "8. Describe the Measures of Central Tendency (mean, median, mode) of the numeric variables in the dataset. Calculate the mean, median, and mode for all 5 numeric variables. For each median and mode, describe the following:\n",
    "\n",
    "    * What does the median value tell you about the data?\n",
    "    * What does the mode value tell you about the data?"
   ]
  },
  {
   "cell_type": "code",
   "execution_count": null,
   "id": "3d67401b",
   "metadata": {},
   "outputs": [],
   "source": [
    "# Measures of Central Tendency are estimates of what a \"typical\" value/data point is within our set of data.\n",
    "#A measure of central tendency is a number around which an entire sample of data is spread. \n"
   ]
  },
  {
   "cell_type": "code",
   "execution_count": 400,
   "id": "994afbbb",
   "metadata": {},
   "outputs": [
    {
     "data": {
      "text/plain": [
       "119.63873067534581"
      ]
     },
     "execution_count": 400,
     "metadata": {},
     "output_type": "execute_result"
    }
   ],
   "source": [
    "dfq['bwt'].mean()"
   ]
  },
  {
   "cell_type": "code",
   "execution_count": 401,
   "id": "4fe92bf2",
   "metadata": {},
   "outputs": [
    {
     "data": {
      "text/plain": [
       "120.0"
      ]
     },
     "execution_count": 401,
     "metadata": {},
     "output_type": "execute_result"
    }
   ],
   "source": [
    "dfq['bwt'].median()"
   ]
  },
  {
   "cell_type": "code",
   "execution_count": 402,
   "id": "5a178972",
   "metadata": {},
   "outputs": [
    {
     "data": {
      "text/plain": [
       "0    115\n",
       "1    117\n",
       "dtype: int64"
      ]
     },
     "execution_count": 402,
     "metadata": {},
     "output_type": "execute_result"
    }
   ],
   "source": [
    "dfq['bwt'].mode()"
   ]
  },
  {
   "cell_type": "code",
   "execution_count": null,
   "id": "c6b37193",
   "metadata": {},
   "outputs": [],
   "source": [
    "#The median  is greater than the mean  it is a left-skewed data. \n",
    "#the median will be the middle value\n",
    "#the mode is the value that appears most frequently in a sample of data, or the value that has the highest frequency.\n",
    "# 115 and 117 are the most frequently appear values in the data"
   ]
  }
 ],
 "metadata": {
  "kernelspec": {
   "display_name": "Python 3 (ipykernel)",
   "language": "python",
   "name": "python3"
  },
  "language_info": {
   "codemirror_mode": {
    "name": "ipython",
    "version": 3
   },
   "file_extension": ".py",
   "mimetype": "text/x-python",
   "name": "python",
   "nbconvert_exporter": "python",
   "pygments_lexer": "ipython3",
   "version": "3.9.7"
  }
 },
 "nbformat": 4,
 "nbformat_minor": 5
}
